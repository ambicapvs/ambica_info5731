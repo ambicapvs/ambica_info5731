{
  "nbformat": 4,
  "nbformat_minor": 0,
  "metadata": {
    "colab": {
      "name": "practice.ipynb",
      "provenance": [],
      "collapsed_sections": [],
      "authorship_tag": "ABX9TyM1uLf9FwZnZ8dl4NCI4p8z",
      "include_colab_link": true
    },
    "kernelspec": {
      "name": "python3",
      "display_name": "Python 3"
    }
  },
  "cells": [
    {
      "cell_type": "markdown",
      "metadata": {
        "id": "view-in-github",
        "colab_type": "text"
      },
      "source": [
        "<a href=\"https://colab.research.google.com/github/ambicapvs/ambica_info5731_spring2021/blob/main/practice.ipynb\" target=\"_parent\"><img src=\"https://colab.research.google.com/assets/colab-badge.svg\" alt=\"Open In Colab\"/></a>"
      ]
    },
    {
      "cell_type": "code",
      "metadata": {
        "colab": {
          "base_uri": "https://localhost:8080/"
        },
        "id": "ZNWnc-cYDoKk",
        "outputId": "8e3029e0-db65-434d-dfdb-0011322f4fcf"
      },
      "source": [
        "char_name = \"george\"#input(\"enter name:\")\n",
        "char_age = 30    #(\"enter age:\")\n",
        "print(\"there was a man named \" + char_name+ \",\")\n",
        "print(\"his age was \", char_age)\n",
        "char_name = \"mike\"\n",
        "\n",
        "\n",
        "print(\"he really like the name \" + char_name +\",\")\n",
        "print(\"but he didnot like being \", char_age)"
      ],
      "execution_count": 16,
      "outputs": [
        {
          "output_type": "stream",
          "text": [
            "there was a man named george,\n",
            "his age was  30\n",
            "he really like the name mike,\n",
            "but he didnot like being  30\n"
          ],
          "name": "stdout"
        }
      ]
    },
    {
      "cell_type": "code",
      "metadata": {
        "colab": {
          "base_uri": "https://localhost:8080/"
        },
        "id": "aqaPCHEUI41q",
        "outputId": "81d508cc-8919-46e3-b9f7-d73e55403bcb"
      },
      "source": [
        "\n",
        "#working with strings\n",
        "print(\"hello \\\" world\")"
      ],
      "execution_count": 14,
      "outputs": [
        {
          "output_type": "stream",
          "text": [
            "hello \" world\n"
          ],
          "name": "stdout"
        }
      ]
    },
    {
      "cell_type": "code",
      "metadata": {
        "colab": {
          "base_uri": "https://localhost:8080/"
        },
        "id": "zvHd5t0mWV3w",
        "outputId": "bbdce442-7ce8-4eed-b64d-9bd6a55ad7a9"
      },
      "source": [
        "sample = \"Giraffe academy\"\n",
        "string = \" is cool\"\n",
        "print(sample  +  string)"
      ],
      "execution_count": 5,
      "outputs": [
        {
          "output_type": "stream",
          "text": [
            "Giraffe academy is cool\n"
          ],
          "name": "stdout"
        }
      ]
    },
    {
      "cell_type": "code",
      "metadata": {
        "colab": {
          "base_uri": "https://localhost:8080/"
        },
        "id": "8WsbRTEkWvK3",
        "outputId": "c60e73bd-0051-437d-a03a-94ef52fcee04"
      },
      "source": [
        "#functions\n",
        "sample = \"Hello world\"\n",
        "print(sample.upper())\n",
        "print(sample.lower())\n",
        "print(sample.isupper())\n",
        "print(sample.islower())\n",
        "print(len(sample))\n",
        "print(sample[7])\n",
        "print(sample.index(\"l\"))\n",
        "print(sample.replace(\"l\",\"$\"))"
      ],
      "execution_count": 16,
      "outputs": [
        {
          "output_type": "stream",
          "text": [
            "HELLO WORLD\n",
            "hello world\n",
            "False\n",
            "False\n",
            "11\n",
            "o\n",
            "2\n",
            "He$$o wor$d\n"
          ],
          "name": "stdout"
        }
      ]
    },
    {
      "cell_type": "code",
      "metadata": {
        "colab": {
          "base_uri": "https://localhost:8080/"
        },
        "id": "ffozbTpc2yMN",
        "outputId": "bc1ad8cc-d17e-4ceb-80b8-2fd5a2ba0267"
      },
      "source": [
        "#working with numbers\n",
        "print(345)\n",
        "print(23+23)\n",
        "print(2.0393)\n",
        "print(25%5)\n",
        "sample = 7\n",
        "print(sample)\n",
        "sample=56\n",
        "print(str(sample))\n",
        "print(str(sample) + \" my fave num\")\n",
        "#functions for numbers\n",
        "\n",
        "sample = -3\n",
        "print(sample)\n",
        "print(abs(sample))\n",
        "print(pow(sample,2))\n",
        "print(max(23,34,2,23))\n",
        "print(min(23,34,12))\n",
        "print(round(3.453))\n",
        "#import math module to access more functions\n",
        "#import math(only the specific function) or from math import *( imports all the function)"
      ],
      "execution_count": 37,
      "outputs": [
        {
          "output_type": "stream",
          "text": [
            "345\n",
            "46\n",
            "2.0393\n",
            "0\n",
            "7\n",
            "56\n",
            "56 my fave num\n",
            "-3\n",
            "3\n",
            "9\n",
            "34\n",
            "12\n",
            "3\n"
          ],
          "name": "stdout"
        }
      ]
    },
    {
      "cell_type": "code",
      "metadata": {
        "colab": {
          "base_uri": "https://localhost:8080/"
        },
        "id": "Oym7hy5uM2WD",
        "outputId": "08c601de-92b5-4f65-a893-1f76644f3c4d"
      },
      "source": [
        "#input from user\n",
        "name = input(\"enter your name: \")\n",
        "print(\"hi \" + name)"
      ],
      "execution_count": 41,
      "outputs": [
        {
          "output_type": "stream",
          "text": [
            "enter your name: fgf\n",
            "hi fgf\n"
          ],
          "name": "stdout"
        }
      ]
    }
  ]
}