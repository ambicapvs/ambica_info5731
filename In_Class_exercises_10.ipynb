{
  "nbformat": 4,
  "nbformat_minor": 0,
  "metadata": {
    "kernelspec": {
      "display_name": "Python 3",
      "language": "python",
      "name": "python3"
    },
    "language_info": {
      "codemirror_mode": {
        "name": "ipython",
        "version": 3
      },
      "file_extension": ".py",
      "mimetype": "text/x-python",
      "name": "python",
      "nbconvert_exporter": "python",
      "pygments_lexer": "ipython3",
      "version": "3.8.5"
    },
    "colab": {
      "name": "In_Class_exercises-10.ipynb",
      "provenance": [],
      "include_colab_link": true
    }
  },
  "cells": [
    {
      "cell_type": "markdown",
      "metadata": {
        "id": "view-in-github",
        "colab_type": "text"
      },
      "source": [
        "<a href=\"https://colab.research.google.com/github/ambicapvs/ambica_info5731_spring2021/blob/main/In_Class_exercises_10.ipynb\" target=\"_parent\"><img src=\"https://colab.research.google.com/assets/colab-badge.svg\" alt=\"Open In Colab\"/></a>"
      ]
    },
    {
      "cell_type": "markdown",
      "metadata": {
        "id": "-yyYwJHZ4AiE"
      },
      "source": [
        "# In class exercise 10 (20 points in total, 4/16/2021)"
      ]
    },
    {
      "cell_type": "markdown",
      "metadata": {
        "id": "KN7Vj6jJ4AiG"
      },
      "source": [
        "The purpose of the exercise is to practice different machine learning algorithms for text clustering\n",
        "Please downlad the dataset by using the following link.  https://www.kaggle.com/PromptCloudHQ/amazon-reviews-unlocked-mobile-phones\n",
        "(You can also use different text data which you want)\n",
        "\n",
        "Apply the listed clustering methods to the dataset:\n",
        "\n",
        "K means, \n",
        "DBSCAN,\n",
        "Hierarchical clustering. \n",
        "\n",
        "You can refer to of the codes from  the follwing link below. \n",
        "https://www.kaggle.com/karthik3890/text-clustering \n",
        "    "
      ]
    },
    {
      "cell_type": "code",
      "metadata": {
        "colab": {
          "base_uri": "https://localhost:8080/",
          "height": 597
        },
        "id": "faDU2Rfz4AiH",
        "outputId": "0948bcfb-5ace-40fb-9419-98f0ea86daeb"
      },
      "source": [
        "#load the data\n",
        "import pandas as pd\n",
        "sample=pd.read_csv(\"/content/Amazon_Unlocked_Mobile.csv\")\n",
        "sample = sample.head(500)\n",
        "sample"
      ],
      "execution_count": 18,
      "outputs": [
        {
          "output_type": "execute_result",
          "data": {
            "text/html": [
              "<div>\n",
              "<style scoped>\n",
              "    .dataframe tbody tr th:only-of-type {\n",
              "        vertical-align: middle;\n",
              "    }\n",
              "\n",
              "    .dataframe tbody tr th {\n",
              "        vertical-align: top;\n",
              "    }\n",
              "\n",
              "    .dataframe thead th {\n",
              "        text-align: right;\n",
              "    }\n",
              "</style>\n",
              "<table border=\"1\" class=\"dataframe\">\n",
              "  <thead>\n",
              "    <tr style=\"text-align: right;\">\n",
              "      <th></th>\n",
              "      <th>Product Name</th>\n",
              "      <th>Brand Name</th>\n",
              "      <th>Price</th>\n",
              "      <th>Rating</th>\n",
              "      <th>Reviews</th>\n",
              "      <th>Review Votes</th>\n",
              "    </tr>\n",
              "  </thead>\n",
              "  <tbody>\n",
              "    <tr>\n",
              "      <th>0</th>\n",
              "      <td>\"CLEAR CLEAN ESN\" Sprint EPIC 4G Galaxy SPH-D7...</td>\n",
              "      <td>Samsung</td>\n",
              "      <td>199.99</td>\n",
              "      <td>5</td>\n",
              "      <td>I feel so LUCKY to have found this used (phone...</td>\n",
              "      <td>1.0</td>\n",
              "    </tr>\n",
              "    <tr>\n",
              "      <th>1</th>\n",
              "      <td>\"CLEAR CLEAN ESN\" Sprint EPIC 4G Galaxy SPH-D7...</td>\n",
              "      <td>Samsung</td>\n",
              "      <td>199.99</td>\n",
              "      <td>4</td>\n",
              "      <td>nice phone, nice up grade from my pantach revu...</td>\n",
              "      <td>0.0</td>\n",
              "    </tr>\n",
              "    <tr>\n",
              "      <th>2</th>\n",
              "      <td>\"CLEAR CLEAN ESN\" Sprint EPIC 4G Galaxy SPH-D7...</td>\n",
              "      <td>Samsung</td>\n",
              "      <td>199.99</td>\n",
              "      <td>5</td>\n",
              "      <td>Very pleased</td>\n",
              "      <td>0.0</td>\n",
              "    </tr>\n",
              "    <tr>\n",
              "      <th>3</th>\n",
              "      <td>\"CLEAR CLEAN ESN\" Sprint EPIC 4G Galaxy SPH-D7...</td>\n",
              "      <td>Samsung</td>\n",
              "      <td>199.99</td>\n",
              "      <td>4</td>\n",
              "      <td>It works good but it goes slow sometimes but i...</td>\n",
              "      <td>0.0</td>\n",
              "    </tr>\n",
              "    <tr>\n",
              "      <th>4</th>\n",
              "      <td>\"CLEAR CLEAN ESN\" Sprint EPIC 4G Galaxy SPH-D7...</td>\n",
              "      <td>Samsung</td>\n",
              "      <td>199.99</td>\n",
              "      <td>4</td>\n",
              "      <td>Great phone to replace my lost phone. The only...</td>\n",
              "      <td>0.0</td>\n",
              "    </tr>\n",
              "    <tr>\n",
              "      <th>...</th>\n",
              "      <td>...</td>\n",
              "      <td>...</td>\n",
              "      <td>...</td>\n",
              "      <td>...</td>\n",
              "      <td>...</td>\n",
              "      <td>...</td>\n",
              "    </tr>\n",
              "    <tr>\n",
              "      <th>495</th>\n",
              "      <td>4G-Unlocked Huawei Honor 6 5.0 TFT LTPS Screen...</td>\n",
              "      <td>Huawei</td>\n",
              "      <td>161.06</td>\n",
              "      <td>5</td>\n",
              "      <td>good phone with a top hardware and relative lo...</td>\n",
              "      <td>1.0</td>\n",
              "    </tr>\n",
              "    <tr>\n",
              "      <th>496</th>\n",
              "      <td>5.0\" Cell Phones Unlocked Android 5.1 MTK6580 ...</td>\n",
              "      <td>JUNING</td>\n",
              "      <td>89.99</td>\n",
              "      <td>5</td>\n",
              "      <td>Like phone its nice for price sometimes it get...</td>\n",
              "      <td>1.0</td>\n",
              "    </tr>\n",
              "    <tr>\n",
              "      <th>497</th>\n",
              "      <td>5.0\" Cell Phones Unlocked Android 5.1 MTK6580 ...</td>\n",
              "      <td>JUNING</td>\n",
              "      <td>89.99</td>\n",
              "      <td>4</td>\n",
              "      <td>So to be put to use by the beneficiary</td>\n",
              "      <td>0.0</td>\n",
              "    </tr>\n",
              "    <tr>\n",
              "      <th>498</th>\n",
              "      <td>5.0\" Cell Phones Unlocked Android 5.1 MTK6580 ...</td>\n",
              "      <td>JUNING</td>\n",
              "      <td>89.99</td>\n",
              "      <td>1</td>\n",
              "      <td>Attractive phone but did not work upon arrival...</td>\n",
              "      <td>5.0</td>\n",
              "    </tr>\n",
              "    <tr>\n",
              "      <th>499</th>\n",
              "      <td>5.0\" Cell Phones Unlocked Android 5.1 MTK6580 ...</td>\n",
              "      <td>JUNING</td>\n",
              "      <td>89.99</td>\n",
              "      <td>5</td>\n",
              "      <td>This phone works well as how it supposed to be...</td>\n",
              "      <td>4.0</td>\n",
              "    </tr>\n",
              "  </tbody>\n",
              "</table>\n",
              "<p>500 rows × 6 columns</p>\n",
              "</div>"
            ],
            "text/plain": [
              "                                          Product Name  ... Review Votes\n",
              "0    \"CLEAR CLEAN ESN\" Sprint EPIC 4G Galaxy SPH-D7...  ...          1.0\n",
              "1    \"CLEAR CLEAN ESN\" Sprint EPIC 4G Galaxy SPH-D7...  ...          0.0\n",
              "2    \"CLEAR CLEAN ESN\" Sprint EPIC 4G Galaxy SPH-D7...  ...          0.0\n",
              "3    \"CLEAR CLEAN ESN\" Sprint EPIC 4G Galaxy SPH-D7...  ...          0.0\n",
              "4    \"CLEAR CLEAN ESN\" Sprint EPIC 4G Galaxy SPH-D7...  ...          0.0\n",
              "..                                                 ...  ...          ...\n",
              "495  4G-Unlocked Huawei Honor 6 5.0 TFT LTPS Screen...  ...          1.0\n",
              "496  5.0\" Cell Phones Unlocked Android 5.1 MTK6580 ...  ...          1.0\n",
              "497  5.0\" Cell Phones Unlocked Android 5.1 MTK6580 ...  ...          0.0\n",
              "498  5.0\" Cell Phones Unlocked Android 5.1 MTK6580 ...  ...          5.0\n",
              "499  5.0\" Cell Phones Unlocked Android 5.1 MTK6580 ...  ...          4.0\n",
              "\n",
              "[500 rows x 6 columns]"
            ]
          },
          "metadata": {
            "tags": []
          },
          "execution_count": 18
        }
      ]
    },
    {
      "cell_type": "code",
      "metadata": {
        "colab": {
          "base_uri": "https://localhost:8080/"
        },
        "id": "xUsxaLMM5tV6",
        "outputId": "d0de3a05-0559-4a57-9ab7-dd7bc5d455c0"
      },
      "source": [
        "#check the loaded data\n",
        "print(sample.shape)"
      ],
      "execution_count": 19,
      "outputs": [
        {
          "output_type": "stream",
          "text": [
            "(500, 6)\n"
          ],
          "name": "stdout"
        }
      ]
    },
    {
      "cell_type": "code",
      "metadata": {
        "colab": {
          "base_uri": "https://localhost:8080/",
          "height": 302
        },
        "id": "U0IeIfJz511n",
        "outputId": "942f7fd9-c636-4179-9fe9-682431f7d573"
      },
      "source": [
        "#look of the dataset\n",
        "sample.head()"
      ],
      "execution_count": 20,
      "outputs": [
        {
          "output_type": "execute_result",
          "data": {
            "text/html": [
              "<div>\n",
              "<style scoped>\n",
              "    .dataframe tbody tr th:only-of-type {\n",
              "        vertical-align: middle;\n",
              "    }\n",
              "\n",
              "    .dataframe tbody tr th {\n",
              "        vertical-align: top;\n",
              "    }\n",
              "\n",
              "    .dataframe thead th {\n",
              "        text-align: right;\n",
              "    }\n",
              "</style>\n",
              "<table border=\"1\" class=\"dataframe\">\n",
              "  <thead>\n",
              "    <tr style=\"text-align: right;\">\n",
              "      <th></th>\n",
              "      <th>Product Name</th>\n",
              "      <th>Brand Name</th>\n",
              "      <th>Price</th>\n",
              "      <th>Rating</th>\n",
              "      <th>Reviews</th>\n",
              "      <th>Review Votes</th>\n",
              "    </tr>\n",
              "  </thead>\n",
              "  <tbody>\n",
              "    <tr>\n",
              "      <th>0</th>\n",
              "      <td>\"CLEAR CLEAN ESN\" Sprint EPIC 4G Galaxy SPH-D7...</td>\n",
              "      <td>Samsung</td>\n",
              "      <td>199.99</td>\n",
              "      <td>5</td>\n",
              "      <td>I feel so LUCKY to have found this used (phone...</td>\n",
              "      <td>1.0</td>\n",
              "    </tr>\n",
              "    <tr>\n",
              "      <th>1</th>\n",
              "      <td>\"CLEAR CLEAN ESN\" Sprint EPIC 4G Galaxy SPH-D7...</td>\n",
              "      <td>Samsung</td>\n",
              "      <td>199.99</td>\n",
              "      <td>4</td>\n",
              "      <td>nice phone, nice up grade from my pantach revu...</td>\n",
              "      <td>0.0</td>\n",
              "    </tr>\n",
              "    <tr>\n",
              "      <th>2</th>\n",
              "      <td>\"CLEAR CLEAN ESN\" Sprint EPIC 4G Galaxy SPH-D7...</td>\n",
              "      <td>Samsung</td>\n",
              "      <td>199.99</td>\n",
              "      <td>5</td>\n",
              "      <td>Very pleased</td>\n",
              "      <td>0.0</td>\n",
              "    </tr>\n",
              "    <tr>\n",
              "      <th>3</th>\n",
              "      <td>\"CLEAR CLEAN ESN\" Sprint EPIC 4G Galaxy SPH-D7...</td>\n",
              "      <td>Samsung</td>\n",
              "      <td>199.99</td>\n",
              "      <td>4</td>\n",
              "      <td>It works good but it goes slow sometimes but i...</td>\n",
              "      <td>0.0</td>\n",
              "    </tr>\n",
              "    <tr>\n",
              "      <th>4</th>\n",
              "      <td>\"CLEAR CLEAN ESN\" Sprint EPIC 4G Galaxy SPH-D7...</td>\n",
              "      <td>Samsung</td>\n",
              "      <td>199.99</td>\n",
              "      <td>4</td>\n",
              "      <td>Great phone to replace my lost phone. The only...</td>\n",
              "      <td>0.0</td>\n",
              "    </tr>\n",
              "  </tbody>\n",
              "</table>\n",
              "</div>"
            ],
            "text/plain": [
              "                                        Product Name  ... Review Votes\n",
              "0  \"CLEAR CLEAN ESN\" Sprint EPIC 4G Galaxy SPH-D7...  ...          1.0\n",
              "1  \"CLEAR CLEAN ESN\" Sprint EPIC 4G Galaxy SPH-D7...  ...          0.0\n",
              "2  \"CLEAR CLEAN ESN\" Sprint EPIC 4G Galaxy SPH-D7...  ...          0.0\n",
              "3  \"CLEAR CLEAN ESN\" Sprint EPIC 4G Galaxy SPH-D7...  ...          0.0\n",
              "4  \"CLEAR CLEAN ESN\" Sprint EPIC 4G Galaxy SPH-D7...  ...          0.0\n",
              "\n",
              "[5 rows x 6 columns]"
            ]
          },
          "metadata": {
            "tags": []
          },
          "execution_count": 20
        }
      ]
    },
    {
      "cell_type": "code",
      "metadata": {
        "colab": {
          "base_uri": "https://localhost:8080/",
          "height": 597
        },
        "id": "VVFIBSga8Ym5",
        "outputId": "f8f54b86-3f38-41f2-d961-f2ed10e287c1"
      },
      "source": [
        "#removing null values\n",
        "sample = sample.dropna()\n",
        "sample"
      ],
      "execution_count": 21,
      "outputs": [
        {
          "output_type": "execute_result",
          "data": {
            "text/html": [
              "<div>\n",
              "<style scoped>\n",
              "    .dataframe tbody tr th:only-of-type {\n",
              "        vertical-align: middle;\n",
              "    }\n",
              "\n",
              "    .dataframe tbody tr th {\n",
              "        vertical-align: top;\n",
              "    }\n",
              "\n",
              "    .dataframe thead th {\n",
              "        text-align: right;\n",
              "    }\n",
              "</style>\n",
              "<table border=\"1\" class=\"dataframe\">\n",
              "  <thead>\n",
              "    <tr style=\"text-align: right;\">\n",
              "      <th></th>\n",
              "      <th>Product Name</th>\n",
              "      <th>Brand Name</th>\n",
              "      <th>Price</th>\n",
              "      <th>Rating</th>\n",
              "      <th>Reviews</th>\n",
              "      <th>Review Votes</th>\n",
              "    </tr>\n",
              "  </thead>\n",
              "  <tbody>\n",
              "    <tr>\n",
              "      <th>0</th>\n",
              "      <td>\"CLEAR CLEAN ESN\" Sprint EPIC 4G Galaxy SPH-D7...</td>\n",
              "      <td>Samsung</td>\n",
              "      <td>199.99</td>\n",
              "      <td>5</td>\n",
              "      <td>I feel so LUCKY to have found this used (phone...</td>\n",
              "      <td>1.0</td>\n",
              "    </tr>\n",
              "    <tr>\n",
              "      <th>1</th>\n",
              "      <td>\"CLEAR CLEAN ESN\" Sprint EPIC 4G Galaxy SPH-D7...</td>\n",
              "      <td>Samsung</td>\n",
              "      <td>199.99</td>\n",
              "      <td>4</td>\n",
              "      <td>nice phone, nice up grade from my pantach revu...</td>\n",
              "      <td>0.0</td>\n",
              "    </tr>\n",
              "    <tr>\n",
              "      <th>2</th>\n",
              "      <td>\"CLEAR CLEAN ESN\" Sprint EPIC 4G Galaxy SPH-D7...</td>\n",
              "      <td>Samsung</td>\n",
              "      <td>199.99</td>\n",
              "      <td>5</td>\n",
              "      <td>Very pleased</td>\n",
              "      <td>0.0</td>\n",
              "    </tr>\n",
              "    <tr>\n",
              "      <th>3</th>\n",
              "      <td>\"CLEAR CLEAN ESN\" Sprint EPIC 4G Galaxy SPH-D7...</td>\n",
              "      <td>Samsung</td>\n",
              "      <td>199.99</td>\n",
              "      <td>4</td>\n",
              "      <td>It works good but it goes slow sometimes but i...</td>\n",
              "      <td>0.0</td>\n",
              "    </tr>\n",
              "    <tr>\n",
              "      <th>4</th>\n",
              "      <td>\"CLEAR CLEAN ESN\" Sprint EPIC 4G Galaxy SPH-D7...</td>\n",
              "      <td>Samsung</td>\n",
              "      <td>199.99</td>\n",
              "      <td>4</td>\n",
              "      <td>Great phone to replace my lost phone. The only...</td>\n",
              "      <td>0.0</td>\n",
              "    </tr>\n",
              "    <tr>\n",
              "      <th>...</th>\n",
              "      <td>...</td>\n",
              "      <td>...</td>\n",
              "      <td>...</td>\n",
              "      <td>...</td>\n",
              "      <td>...</td>\n",
              "      <td>...</td>\n",
              "    </tr>\n",
              "    <tr>\n",
              "      <th>495</th>\n",
              "      <td>4G-Unlocked Huawei Honor 6 5.0 TFT LTPS Screen...</td>\n",
              "      <td>Huawei</td>\n",
              "      <td>161.06</td>\n",
              "      <td>5</td>\n",
              "      <td>good phone with a top hardware and relative lo...</td>\n",
              "      <td>1.0</td>\n",
              "    </tr>\n",
              "    <tr>\n",
              "      <th>496</th>\n",
              "      <td>5.0\" Cell Phones Unlocked Android 5.1 MTK6580 ...</td>\n",
              "      <td>JUNING</td>\n",
              "      <td>89.99</td>\n",
              "      <td>5</td>\n",
              "      <td>Like phone its nice for price sometimes it get...</td>\n",
              "      <td>1.0</td>\n",
              "    </tr>\n",
              "    <tr>\n",
              "      <th>497</th>\n",
              "      <td>5.0\" Cell Phones Unlocked Android 5.1 MTK6580 ...</td>\n",
              "      <td>JUNING</td>\n",
              "      <td>89.99</td>\n",
              "      <td>4</td>\n",
              "      <td>So to be put to use by the beneficiary</td>\n",
              "      <td>0.0</td>\n",
              "    </tr>\n",
              "    <tr>\n",
              "      <th>498</th>\n",
              "      <td>5.0\" Cell Phones Unlocked Android 5.1 MTK6580 ...</td>\n",
              "      <td>JUNING</td>\n",
              "      <td>89.99</td>\n",
              "      <td>1</td>\n",
              "      <td>Attractive phone but did not work upon arrival...</td>\n",
              "      <td>5.0</td>\n",
              "    </tr>\n",
              "    <tr>\n",
              "      <th>499</th>\n",
              "      <td>5.0\" Cell Phones Unlocked Android 5.1 MTK6580 ...</td>\n",
              "      <td>JUNING</td>\n",
              "      <td>89.99</td>\n",
              "      <td>5</td>\n",
              "      <td>This phone works well as how it supposed to be...</td>\n",
              "      <td>4.0</td>\n",
              "    </tr>\n",
              "  </tbody>\n",
              "</table>\n",
              "<p>323 rows × 6 columns</p>\n",
              "</div>"
            ],
            "text/plain": [
              "                                          Product Name  ... Review Votes\n",
              "0    \"CLEAR CLEAN ESN\" Sprint EPIC 4G Galaxy SPH-D7...  ...          1.0\n",
              "1    \"CLEAR CLEAN ESN\" Sprint EPIC 4G Galaxy SPH-D7...  ...          0.0\n",
              "2    \"CLEAR CLEAN ESN\" Sprint EPIC 4G Galaxy SPH-D7...  ...          0.0\n",
              "3    \"CLEAR CLEAN ESN\" Sprint EPIC 4G Galaxy SPH-D7...  ...          0.0\n",
              "4    \"CLEAR CLEAN ESN\" Sprint EPIC 4G Galaxy SPH-D7...  ...          0.0\n",
              "..                                                 ...  ...          ...\n",
              "495  4G-Unlocked Huawei Honor 6 5.0 TFT LTPS Screen...  ...          1.0\n",
              "496  5.0\" Cell Phones Unlocked Android 5.1 MTK6580 ...  ...          1.0\n",
              "497  5.0\" Cell Phones Unlocked Android 5.1 MTK6580 ...  ...          0.0\n",
              "498  5.0\" Cell Phones Unlocked Android 5.1 MTK6580 ...  ...          5.0\n",
              "499  5.0\" Cell Phones Unlocked Android 5.1 MTK6580 ...  ...          4.0\n",
              "\n",
              "[323 rows x 6 columns]"
            ]
          },
          "metadata": {
            "tags": []
          },
          "execution_count": 21
        }
      ]
    },
    {
      "cell_type": "code",
      "metadata": {
        "colab": {
          "base_uri": "https://localhost:8080/",
          "height": 351
        },
        "id": "WXVXX0ad55d8",
        "outputId": "334f0274-a9ec-44e1-b23f-a7afa9d51e20"
      },
      "source": [
        "# Understand how customer ratings are distributed\n",
        "import seaborn as sns\n",
        "sns.countplot(sample.Rating)"
      ],
      "execution_count": 22,
      "outputs": [
        {
          "output_type": "stream",
          "text": [
            "/usr/local/lib/python3.7/dist-packages/seaborn/_decorators.py:43: FutureWarning: Pass the following variable as a keyword arg: x. From version 0.12, the only valid positional argument will be `data`, and passing other arguments without an explicit keyword will result in an error or misinterpretation.\n",
            "  FutureWarning\n"
          ],
          "name": "stderr"
        },
        {
          "output_type": "execute_result",
          "data": {
            "text/plain": [
              "<matplotlib.axes._subplots.AxesSubplot at 0x7f0953ad87d0>"
            ]
          },
          "metadata": {
            "tags": []
          },
          "execution_count": 22
        },
        {
          "output_type": "display_data",
          "data": {
            "image/png": "[encoded data removed]",
            "text/plain": [
              "<Figure size 432x288 with 1 Axes>"
            ]
          },
          "metadata": {
            "tags": [],
            "needs_background": "light"
          }
        }
      ]
    },
    {
      "cell_type": "code",
      "metadata": {
        "colab": {
          "base_uri": "https://localhost:8080/"
        },
        "id": "QUsw7ZKm8DS8",
        "outputId": "1245378f-574c-49b5-d212-81c88f0aa683"
      },
      "source": [
        "def partition(x):\n",
        "    if x < 3:\n",
        "        return 'negative'\n",
        "    return 'positive'\n",
        "\n",
        "#changing reviews with score less than 3 to be positive\n",
        "actualScore = sample['Rating']\n",
        "positiveNegative = actualScore.map(partition) \n",
        "sample['Rating'] = positiveNegative"
      ],
      "execution_count": 23,
      "outputs": [
        {
          "output_type": "stream",
          "text": [
            "/usr/local/lib/python3.7/dist-packages/ipykernel_launcher.py:9: SettingWithCopyWarning: \n",
            "A value is trying to be set on a copy of a slice from a DataFrame.\n",
            "Try using .loc[row_indexer,col_indexer] = value instead\n",
            "\n",
            "See the caveats in the documentation: https://pandas.pydata.org/pandas-docs/stable/user_guide/indexing.html#returning-a-view-versus-a-copy\n",
            "  if __name__ == '__main__':\n"
          ],
          "name": "stderr"
        }
      ]
    },
    {
      "cell_type": "code",
      "metadata": {
        "colab": {
          "base_uri": "https://localhost:8080/",
          "height": 302
        },
        "id": "nbmBzcdiqmZE",
        "outputId": "91a8ea9d-aa7e-4d54-abac-ef2342026c1e"
      },
      "source": [
        "sample.head()"
      ],
      "execution_count": 25,
      "outputs": [
        {
          "output_type": "execute_result",
          "data": {
            "text/html": [
              "<div>\n",
              "<style scoped>\n",
              "    .dataframe tbody tr th:only-of-type {\n",
              "        vertical-align: middle;\n",
              "    }\n",
              "\n",
              "    .dataframe tbody tr th {\n",
              "        vertical-align: top;\n",
              "    }\n",
              "\n",
              "    .dataframe thead th {\n",
              "        text-align: right;\n",
              "    }\n",
              "</style>\n",
              "<table border=\"1\" class=\"dataframe\">\n",
              "  <thead>\n",
              "    <tr style=\"text-align: right;\">\n",
              "      <th></th>\n",
              "      <th>Product Name</th>\n",
              "      <th>Brand Name</th>\n",
              "      <th>Price</th>\n",
              "      <th>Rating</th>\n",
              "      <th>Reviews</th>\n",
              "      <th>Review Votes</th>\n",
              "    </tr>\n",
              "  </thead>\n",
              "  <tbody>\n",
              "    <tr>\n",
              "      <th>0</th>\n",
              "      <td>\"CLEAR CLEAN ESN\" Sprint EPIC 4G Galaxy SPH-D7...</td>\n",
              "      <td>Samsung</td>\n",
              "      <td>199.99</td>\n",
              "      <td>positive</td>\n",
              "      <td>I feel so LUCKY to have found this used (phone...</td>\n",
              "      <td>1.0</td>\n",
              "    </tr>\n",
              "    <tr>\n",
              "      <th>1</th>\n",
              "      <td>\"CLEAR CLEAN ESN\" Sprint EPIC 4G Galaxy SPH-D7...</td>\n",
              "      <td>Samsung</td>\n",
              "      <td>199.99</td>\n",
              "      <td>positive</td>\n",
              "      <td>nice phone, nice up grade from my pantach revu...</td>\n",
              "      <td>0.0</td>\n",
              "    </tr>\n",
              "    <tr>\n",
              "      <th>2</th>\n",
              "      <td>\"CLEAR CLEAN ESN\" Sprint EPIC 4G Galaxy SPH-D7...</td>\n",
              "      <td>Samsung</td>\n",
              "      <td>199.99</td>\n",
              "      <td>positive</td>\n",
              "      <td>Very pleased</td>\n",
              "      <td>0.0</td>\n",
              "    </tr>\n",
              "    <tr>\n",
              "      <th>3</th>\n",
              "      <td>\"CLEAR CLEAN ESN\" Sprint EPIC 4G Galaxy SPH-D7...</td>\n",
              "      <td>Samsung</td>\n",
              "      <td>199.99</td>\n",
              "      <td>positive</td>\n",
              "      <td>It works good but it goes slow sometimes but i...</td>\n",
              "      <td>0.0</td>\n",
              "    </tr>\n",
              "    <tr>\n",
              "      <th>4</th>\n",
              "      <td>\"CLEAR CLEAN ESN\" Sprint EPIC 4G Galaxy SPH-D7...</td>\n",
              "      <td>Samsung</td>\n",
              "      <td>199.99</td>\n",
              "      <td>positive</td>\n",
              "      <td>Great phone to replace my lost phone. The only...</td>\n",
              "      <td>0.0</td>\n",
              "    </tr>\n",
              "  </tbody>\n",
              "</table>\n",
              "</div>"
            ],
            "text/plain": [
              "                                        Product Name  ... Review Votes\n",
              "0  \"CLEAR CLEAN ESN\" Sprint EPIC 4G Galaxy SPH-D7...  ...          1.0\n",
              "1  \"CLEAR CLEAN ESN\" Sprint EPIC 4G Galaxy SPH-D7...  ...          0.0\n",
              "2  \"CLEAR CLEAN ESN\" Sprint EPIC 4G Galaxy SPH-D7...  ...          0.0\n",
              "3  \"CLEAR CLEAN ESN\" Sprint EPIC 4G Galaxy SPH-D7...  ...          0.0\n",
              "4  \"CLEAR CLEAN ESN\" Sprint EPIC 4G Galaxy SPH-D7...  ...          0.0\n",
              "\n",
              "[5 rows x 6 columns]"
            ]
          },
          "metadata": {
            "tags": []
          },
          "execution_count": 25
        }
      ]
    },
    {
      "cell_type": "code",
      "metadata": {
        "colab": {
          "base_uri": "https://localhost:8080/"
        },
        "id": "81VQtGzr9FOb",
        "outputId": "b326aa5b-d5fe-4554-895f-bbfe3914236a"
      },
      "source": [
        "#counting number of positive and negative ratings\n",
        "sample[\"Rating\"].value_counts()"
      ],
      "execution_count": 26,
      "outputs": [
        {
          "output_type": "execute_result",
          "data": {
            "text/plain": [
              "positive    247\n",
              "negative     76\n",
              "Name: Rating, dtype: int64"
            ]
          },
          "metadata": {
            "tags": []
          },
          "execution_count": 26
        }
      ]
    },
    {
      "cell_type": "code",
      "metadata": {
        "colab": {
          "base_uri": "https://localhost:8080/"
        },
        "id": "z1I2RhGV9UgE",
        "outputId": "6e081ff0-b2b9-4128-d576-b68a82dd1829"
      },
      "source": [
        "#dropping  the duplicates column if any using drop duplicates from pandas\n",
        "sorted_data=sample.sort_values('Product Name', axis=0, ascending=True, inplace=False, kind='quicksort', na_position='last')\n",
        "final=sorted_data.drop_duplicates(subset={\"Brand Name\",\"Reviews\"}, keep='first', inplace=False)\n",
        "final.shape"
      ],
      "execution_count": 27,
      "outputs": [
        {
          "output_type": "execute_result",
          "data": {
            "text/plain": [
              "(302, 6)"
            ]
          },
          "metadata": {
            "tags": []
          },
          "execution_count": 27
        }
      ]
    },
    {
      "cell_type": "code",
      "metadata": {
        "colab": {
          "base_uri": "https://localhost:8080/",
          "height": 351
        },
        "id": "mJRDAIGu_TyM",
        "outputId": "1a235254-0271-4d4b-a224-f1d99966216b"
      },
      "source": [
        "#datacleaning\n",
        "import seaborn as sns\n",
        "sns.countplot(final.Rating)"
      ],
      "execution_count": 28,
      "outputs": [
        {
          "output_type": "stream",
          "text": [
            "/usr/local/lib/python3.7/dist-packages/seaborn/_decorators.py:43: FutureWarning: Pass the following variable as a keyword arg: x. From version 0.12, the only valid positional argument will be `data`, and passing other arguments without an explicit keyword will result in an error or misinterpretation.\n",
            "  FutureWarning\n"
          ],
          "name": "stderr"
        },
        {
          "output_type": "execute_result",
          "data": {
            "text/plain": [
              "<matplotlib.axes._subplots.AxesSubplot at 0x7f0955ee6590>"
            ]
          },
          "metadata": {
            "tags": []
          },
          "execution_count": 28
        },
        {
          "output_type": "display_data",
          "data": {
            "image/png": "[encoded data removed]",
            "text/plain": [
              "<Figure size 432x288 with 1 Axes>"
            ]
          },
          "metadata": {
            "tags": [],
            "needs_background": "light"
          }
        }
      ]
    },
    {
      "cell_type": "code",
      "metadata": {
        "id": "OEacsIt8ADRD",
        "colab": {
          "base_uri": "https://localhost:8080/",
          "height": 597
        },
        "outputId": "6201fd93-ac2c-4bcb-d366-d51b0579f192"
      },
      "source": [
        "#removing html tags\n",
        "import re\n",
        "i=0;\n",
        "for sent in final['Reviews'].values:\n",
        "    if (len(re.findall('<.*?>', sent))):\n",
        "        print(i)\n",
        "        print(sent)\n",
        "        break;\n",
        "    i += 1;\n",
        "final"
      ],
      "execution_count": 29,
      "outputs": [
        {
          "output_type": "execute_result",
          "data": {
            "text/html": [
              "<div>\n",
              "<style scoped>\n",
              "    .dataframe tbody tr th:only-of-type {\n",
              "        vertical-align: middle;\n",
              "    }\n",
              "\n",
              "    .dataframe tbody tr th {\n",
              "        vertical-align: top;\n",
              "    }\n",
              "\n",
              "    .dataframe thead th {\n",
              "        text-align: right;\n",
              "    }\n",
              "</style>\n",
              "<table border=\"1\" class=\"dataframe\">\n",
              "  <thead>\n",
              "    <tr style=\"text-align: right;\">\n",
              "      <th></th>\n",
              "      <th>Product Name</th>\n",
              "      <th>Brand Name</th>\n",
              "      <th>Price</th>\n",
              "      <th>Rating</th>\n",
              "      <th>Reviews</th>\n",
              "      <th>Review Votes</th>\n",
              "    </tr>\n",
              "  </thead>\n",
              "  <tbody>\n",
              "    <tr>\n",
              "      <th>0</th>\n",
              "      <td>\"CLEAR CLEAN ESN\" Sprint EPIC 4G Galaxy SPH-D7...</td>\n",
              "      <td>Samsung</td>\n",
              "      <td>199.99</td>\n",
              "      <td>positive</td>\n",
              "      <td>I feel so LUCKY to have found this used (phone...</td>\n",
              "      <td>1.0</td>\n",
              "    </tr>\n",
              "    <tr>\n",
              "      <th>21</th>\n",
              "      <td>\"CLEAR CLEAN ESN\" Sprint EPIC 4G Galaxy SPH-D7...</td>\n",
              "      <td>Samsung</td>\n",
              "      <td>199.99</td>\n",
              "      <td>positive</td>\n",
              "      <td>pros-beautiful screen,capable of running chrom...</td>\n",
              "      <td>0.0</td>\n",
              "    </tr>\n",
              "    <tr>\n",
              "      <th>22</th>\n",
              "      <td>\"CLEAR CLEAN ESN\" Sprint EPIC 4G Galaxy SPH-D7...</td>\n",
              "      <td>Samsung</td>\n",
              "      <td>199.99</td>\n",
              "      <td>negative</td>\n",
              "      <td>I purchased this phone in December as a christ...</td>\n",
              "      <td>19.0</td>\n",
              "    </tr>\n",
              "    <tr>\n",
              "      <th>23</th>\n",
              "      <td>\"CLEAR CLEAN ESN\" Sprint EPIC 4G Galaxy SPH-D7...</td>\n",
              "      <td>Samsung</td>\n",
              "      <td>199.99</td>\n",
              "      <td>positive</td>\n",
              "      <td>Phone good just a little slow phone old but it...</td>\n",
              "      <td>0.0</td>\n",
              "    </tr>\n",
              "    <tr>\n",
              "      <th>24</th>\n",
              "      <td>\"CLEAR CLEAN ESN\" Sprint EPIC 4G Galaxy SPH-D7...</td>\n",
              "      <td>Samsung</td>\n",
              "      <td>199.99</td>\n",
              "      <td>positive</td>\n",
              "      <td>Phone's speaker little low. Overall very happy...</td>\n",
              "      <td>0.0</td>\n",
              "    </tr>\n",
              "    <tr>\n",
              "      <th>...</th>\n",
              "      <td>...</td>\n",
              "      <td>...</td>\n",
              "      <td>...</td>\n",
              "      <td>...</td>\n",
              "      <td>...</td>\n",
              "      <td>...</td>\n",
              "    </tr>\n",
              "    <tr>\n",
              "      <th>166</th>\n",
              "      <td>[XMAS DEAL] [New Edition] Jethro [SC213V2] Fli...</td>\n",
              "      <td>Jethro</td>\n",
              "      <td>79.99</td>\n",
              "      <td>positive</td>\n",
              "      <td>everything was great. had a hard time getting ...</td>\n",
              "      <td>0.0</td>\n",
              "    </tr>\n",
              "    <tr>\n",
              "      <th>165</th>\n",
              "      <td>[XMAS DEAL] [New Edition] Jethro [SC213V2] Fli...</td>\n",
              "      <td>Jethro</td>\n",
              "      <td>79.99</td>\n",
              "      <td>positive</td>\n",
              "      <td>[New Edition] Jethro [SC213V2] Flip Quad-band ...</td>\n",
              "      <td>0.0</td>\n",
              "    </tr>\n",
              "    <tr>\n",
              "      <th>164</th>\n",
              "      <td>[XMAS DEAL] [New Edition] Jethro [SC213V2] Fli...</td>\n",
              "      <td>Jethro</td>\n",
              "      <td>79.99</td>\n",
              "      <td>negative</td>\n",
              "      <td>I was contacting Jethro customer service, beca...</td>\n",
              "      <td>1.0</td>\n",
              "    </tr>\n",
              "    <tr>\n",
              "      <th>173</th>\n",
              "      <td>[XMAS DEAL] [New Edition] Jethro [SC213V2] Fli...</td>\n",
              "      <td>Jethro</td>\n",
              "      <td>79.99</td>\n",
              "      <td>positive</td>\n",
              "      <td>Bought for my mom! She loves it!</td>\n",
              "      <td>8.0</td>\n",
              "    </tr>\n",
              "    <tr>\n",
              "      <th>169</th>\n",
              "      <td>[XMAS DEAL] [New Edition] Jethro [SC213V2] Fli...</td>\n",
              "      <td>Jethro</td>\n",
              "      <td>79.99</td>\n",
              "      <td>positive</td>\n",
              "      <td>Met expectations, easy to use, gave as gift ve...</td>\n",
              "      <td>1.0</td>\n",
              "    </tr>\n",
              "  </tbody>\n",
              "</table>\n",
              "<p>302 rows × 6 columns</p>\n",
              "</div>"
            ],
            "text/plain": [
              "                                          Product Name  ... Review Votes\n",
              "0    \"CLEAR CLEAN ESN\" Sprint EPIC 4G Galaxy SPH-D7...  ...          1.0\n",
              "21   \"CLEAR CLEAN ESN\" Sprint EPIC 4G Galaxy SPH-D7...  ...          0.0\n",
              "22   \"CLEAR CLEAN ESN\" Sprint EPIC 4G Galaxy SPH-D7...  ...         19.0\n",
              "23   \"CLEAR CLEAN ESN\" Sprint EPIC 4G Galaxy SPH-D7...  ...          0.0\n",
              "24   \"CLEAR CLEAN ESN\" Sprint EPIC 4G Galaxy SPH-D7...  ...          0.0\n",
              "..                                                 ...  ...          ...\n",
              "166  [XMAS DEAL] [New Edition] Jethro [SC213V2] Fli...  ...          0.0\n",
              "165  [XMAS DEAL] [New Edition] Jethro [SC213V2] Fli...  ...          0.0\n",
              "164  [XMAS DEAL] [New Edition] Jethro [SC213V2] Fli...  ...          1.0\n",
              "173  [XMAS DEAL] [New Edition] Jethro [SC213V2] Fli...  ...          8.0\n",
              "169  [XMAS DEAL] [New Edition] Jethro [SC213V2] Fli...  ...          1.0\n",
              "\n",
              "[302 rows x 6 columns]"
            ]
          },
          "metadata": {
            "tags": []
          },
          "execution_count": 29
        }
      ]
    },
    {
      "cell_type": "code",
      "metadata": {
        "colab": {
          "base_uri": "https://localhost:8080/"
        },
        "id": "LU1QxDLTmGbv",
        "outputId": "cb30d2b0-7169-4a4f-8988-73a13d0b0221"
      },
      "source": [
        "def cleanhtml(sentence): #function to clean the word of any html-tags\n",
        "    cleanr = re.compile('<.*?>')\n",
        "    cleantext = re.sub(cleanr, ' ', sentence)\n",
        "    return cleantext\n",
        "\n",
        "cleanhtml"
      ],
      "execution_count": 30,
      "outputs": [
        {
          "output_type": "execute_result",
          "data": {
            "text/plain": [
              "<function __main__.cleanhtml>"
            ]
          },
          "metadata": {
            "tags": []
          },
          "execution_count": 30
        }
      ]
    },
    {
      "cell_type": "code",
      "metadata": {
        "colab": {
          "base_uri": "https://localhost:8080/",
          "height": 721
        },
        "id": "pnEylk1RogwS",
        "outputId": "231eff66-778e-4a62-839e-0d348bcceeab"
      },
      "source": [
        "#extract stopwords\n",
        "import requests\n",
        "data = requests.get(\"https://gist.githubusercontent.com/sebleier/554280/raw/7e0e4a1ce04c2bb7bd41089c9821dbcf6d0c786c/NLTK's%2520list%2520of%2520english%2520stopwords\")\n",
        "a = data.text\n",
        "stop = a.split()\n",
        "#stopwords\n",
        "final['stopwords'] = final[\"Reviews\"].apply(lambda x: \" \".join(x for x in x.split() if x not in stop))\n",
        "final"
      ],
      "execution_count": 31,
      "outputs": [
        {
          "output_type": "stream",
          "text": [
            "/usr/local/lib/python3.7/dist-packages/ipykernel_launcher.py:7: SettingWithCopyWarning: \n",
            "A value is trying to be set on a copy of a slice from a DataFrame.\n",
            "Try using .loc[row_indexer,col_indexer] = value instead\n",
            "\n",
            "See the caveats in the documentation: https://pandas.pydata.org/pandas-docs/stable/user_guide/indexing.html#returning-a-view-versus-a-copy\n",
            "  import sys\n"
          ],
          "name": "stderr"
        },
        {
          "output_type": "execute_result",
          "data": {
            "text/html": [
              "<div>\n",
              "<style scoped>\n",
              "    .dataframe tbody tr th:only-of-type {\n",
              "        vertical-align: middle;\n",
              "    }\n",
              "\n",
              "    .dataframe tbody tr th {\n",
              "        vertical-align: top;\n",
              "    }\n",
              "\n",
              "    .dataframe thead th {\n",
              "        text-align: right;\n",
              "    }\n",
              "</style>\n",
              "<table border=\"1\" class=\"dataframe\">\n",
              "  <thead>\n",
              "    <tr style=\"text-align: right;\">\n",
              "      <th></th>\n",
              "      <th>Product Name</th>\n",
              "      <th>Brand Name</th>\n",
              "      <th>Price</th>\n",
              "      <th>Rating</th>\n",
              "      <th>Reviews</th>\n",
              "      <th>Review Votes</th>\n",
              "      <th>stopwords</th>\n",
              "    </tr>\n",
              "  </thead>\n",
              "  <tbody>\n",
              "    <tr>\n",
              "      <th>0</th>\n",
              "      <td>\"CLEAR CLEAN ESN\" Sprint EPIC 4G Galaxy SPH-D7...</td>\n",
              "      <td>Samsung</td>\n",
              "      <td>199.99</td>\n",
              "      <td>positive</td>\n",
              "      <td>I feel so LUCKY to have found this used (phone...</td>\n",
              "      <td>1.0</td>\n",
              "      <td>I feel LUCKY found used (phone us &amp; used hard ...</td>\n",
              "    </tr>\n",
              "    <tr>\n",
              "      <th>21</th>\n",
              "      <td>\"CLEAR CLEAN ESN\" Sprint EPIC 4G Galaxy SPH-D7...</td>\n",
              "      <td>Samsung</td>\n",
              "      <td>199.99</td>\n",
              "      <td>positive</td>\n",
              "      <td>pros-beautiful screen,capable of running chrom...</td>\n",
              "      <td>0.0</td>\n",
              "      <td>pros-beautiful screen,capable running chrome,t...</td>\n",
              "    </tr>\n",
              "    <tr>\n",
              "      <th>22</th>\n",
              "      <td>\"CLEAR CLEAN ESN\" Sprint EPIC 4G Galaxy SPH-D7...</td>\n",
              "      <td>Samsung</td>\n",
              "      <td>199.99</td>\n",
              "      <td>negative</td>\n",
              "      <td>I purchased this phone in December as a christ...</td>\n",
              "      <td>19.0</td>\n",
              "      <td>I purchased phone December christmas present s...</td>\n",
              "    </tr>\n",
              "    <tr>\n",
              "      <th>23</th>\n",
              "      <td>\"CLEAR CLEAN ESN\" Sprint EPIC 4G Galaxy SPH-D7...</td>\n",
              "      <td>Samsung</td>\n",
              "      <td>199.99</td>\n",
              "      <td>positive</td>\n",
              "      <td>Phone good just a little slow phone old but it...</td>\n",
              "      <td>0.0</td>\n",
              "      <td>Phone good little slow phone old it's great ph...</td>\n",
              "    </tr>\n",
              "    <tr>\n",
              "      <th>24</th>\n",
              "      <td>\"CLEAR CLEAN ESN\" Sprint EPIC 4G Galaxy SPH-D7...</td>\n",
              "      <td>Samsung</td>\n",
              "      <td>199.99</td>\n",
              "      <td>positive</td>\n",
              "      <td>Phone's speaker little low. Overall very happy...</td>\n",
              "      <td>0.0</td>\n",
              "      <td>Phone's speaker little low. Overall happy phon...</td>\n",
              "    </tr>\n",
              "    <tr>\n",
              "      <th>...</th>\n",
              "      <td>...</td>\n",
              "      <td>...</td>\n",
              "      <td>...</td>\n",
              "      <td>...</td>\n",
              "      <td>...</td>\n",
              "      <td>...</td>\n",
              "      <td>...</td>\n",
              "    </tr>\n",
              "    <tr>\n",
              "      <th>166</th>\n",
              "      <td>[XMAS DEAL] [New Edition] Jethro [SC213V2] Fli...</td>\n",
              "      <td>Jethro</td>\n",
              "      <td>79.99</td>\n",
              "      <td>positive</td>\n",
              "      <td>everything was great. had a hard time getting ...</td>\n",
              "      <td>0.0</td>\n",
              "      <td>everything great. hard time getting old SIM ca...</td>\n",
              "    </tr>\n",
              "    <tr>\n",
              "      <th>165</th>\n",
              "      <td>[XMAS DEAL] [New Edition] Jethro [SC213V2] Fli...</td>\n",
              "      <td>Jethro</td>\n",
              "      <td>79.99</td>\n",
              "      <td>positive</td>\n",
              "      <td>[New Edition] Jethro [SC213V2] Flip Quad-band ...</td>\n",
              "      <td>0.0</td>\n",
              "      <td>[New Edition] Jethro [SC213V2] Flip Quad-band ...</td>\n",
              "    </tr>\n",
              "    <tr>\n",
              "      <th>164</th>\n",
              "      <td>[XMAS DEAL] [New Edition] Jethro [SC213V2] Fli...</td>\n",
              "      <td>Jethro</td>\n",
              "      <td>79.99</td>\n",
              "      <td>negative</td>\n",
              "      <td>I was contacting Jethro customer service, beca...</td>\n",
              "      <td>1.0</td>\n",
              "      <td>I contacting Jethro customer service, couple k...</td>\n",
              "    </tr>\n",
              "    <tr>\n",
              "      <th>173</th>\n",
              "      <td>[XMAS DEAL] [New Edition] Jethro [SC213V2] Fli...</td>\n",
              "      <td>Jethro</td>\n",
              "      <td>79.99</td>\n",
              "      <td>positive</td>\n",
              "      <td>Bought for my mom! She loves it!</td>\n",
              "      <td>8.0</td>\n",
              "      <td>Bought mom! She loves it!</td>\n",
              "    </tr>\n",
              "    <tr>\n",
              "      <th>169</th>\n",
              "      <td>[XMAS DEAL] [New Edition] Jethro [SC213V2] Fli...</td>\n",
              "      <td>Jethro</td>\n",
              "      <td>79.99</td>\n",
              "      <td>positive</td>\n",
              "      <td>Met expectations, easy to use, gave as gift ve...</td>\n",
              "      <td>1.0</td>\n",
              "      <td>Met expectations, easy use, gave gift veto eld...</td>\n",
              "    </tr>\n",
              "  </tbody>\n",
              "</table>\n",
              "<p>302 rows × 7 columns</p>\n",
              "</div>"
            ],
            "text/plain": [
              "                                          Product Name  ...                                          stopwords\n",
              "0    \"CLEAR CLEAN ESN\" Sprint EPIC 4G Galaxy SPH-D7...  ...  I feel LUCKY found used (phone us & used hard ...\n",
              "21   \"CLEAR CLEAN ESN\" Sprint EPIC 4G Galaxy SPH-D7...  ...  pros-beautiful screen,capable running chrome,t...\n",
              "22   \"CLEAR CLEAN ESN\" Sprint EPIC 4G Galaxy SPH-D7...  ...  I purchased phone December christmas present s...\n",
              "23   \"CLEAR CLEAN ESN\" Sprint EPIC 4G Galaxy SPH-D7...  ...  Phone good little slow phone old it's great ph...\n",
              "24   \"CLEAR CLEAN ESN\" Sprint EPIC 4G Galaxy SPH-D7...  ...  Phone's speaker little low. Overall happy phon...\n",
              "..                                                 ...  ...                                                ...\n",
              "166  [XMAS DEAL] [New Edition] Jethro [SC213V2] Fli...  ...  everything great. hard time getting old SIM ca...\n",
              "165  [XMAS DEAL] [New Edition] Jethro [SC213V2] Fli...  ...  [New Edition] Jethro [SC213V2] Flip Quad-band ...\n",
              "164  [XMAS DEAL] [New Edition] Jethro [SC213V2] Fli...  ...  I contacting Jethro customer service, couple k...\n",
              "173  [XMAS DEAL] [New Edition] Jethro [SC213V2] Fli...  ...                          Bought mom! She loves it!\n",
              "169  [XMAS DEAL] [New Edition] Jethro [SC213V2] Fli...  ...  Met expectations, easy use, gave gift veto eld...\n",
              "\n",
              "[302 rows x 7 columns]"
            ]
          },
          "metadata": {
            "tags": []
          },
          "execution_count": 31
        }
      ]
    },
    {
      "cell_type": "code",
      "metadata": {
        "colab": {
          "base_uri": "https://localhost:8080/",
          "height": 1000
        },
        "id": "Zhn04mP5AfsR",
        "outputId": "34011bc3-dd79-4d68-b42c-7e24aadf9be5"
      },
      "source": [
        "\n",
        "#lowercase\n",
        "final[\"lower_case\"] = final['stopwords'].apply(lambda x: \" \".join(x.lower() for x in x.split()))\n",
        "#special chars\n",
        "final['cleanedtext'] = final[\"lower_case\"].str.replace('[^A-Za-z0-9 ]+','')\n",
        "final"
      ],
      "execution_count": 33,
      "outputs": [
        {
          "output_type": "stream",
          "text": [
            "/usr/local/lib/python3.7/dist-packages/ipykernel_launcher.py:3: SettingWithCopyWarning: \n",
            "A value is trying to be set on a copy of a slice from a DataFrame.\n",
            "Try using .loc[row_indexer,col_indexer] = value instead\n",
            "\n",
            "See the caveats in the documentation: https://pandas.pydata.org/pandas-docs/stable/user_guide/indexing.html#returning-a-view-versus-a-copy\n",
            "  This is separate from the ipykernel package so we can avoid doing imports until\n",
            "/usr/local/lib/python3.7/dist-packages/ipykernel_launcher.py:5: SettingWithCopyWarning: \n",
            "A value is trying to be set on a copy of a slice from a DataFrame.\n",
            "Try using .loc[row_indexer,col_indexer] = value instead\n",
            "\n",
            "See the caveats in the documentation: https://pandas.pydata.org/pandas-docs/stable/user_guide/indexing.html#returning-a-view-versus-a-copy\n",
            "  \"\"\"\n"
          ],
          "name": "stderr"
        },
        {
          "output_type": "execute_result",
          "data": {
            "text/html": [
              "<div>\n",
              "<style scoped>\n",
              "    .dataframe tbody tr th:only-of-type {\n",
              "        vertical-align: middle;\n",
              "    }\n",
              "\n",
              "    .dataframe tbody tr th {\n",
              "        vertical-align: top;\n",
              "    }\n",
              "\n",
              "    .dataframe thead th {\n",
              "        text-align: right;\n",
              "    }\n",
              "</style>\n",
              "<table border=\"1\" class=\"dataframe\">\n",
              "  <thead>\n",
              "    <tr style=\"text-align: right;\">\n",
              "      <th></th>\n",
              "      <th>Product Name</th>\n",
              "      <th>Brand Name</th>\n",
              "      <th>Price</th>\n",
              "      <th>Rating</th>\n",
              "      <th>Reviews</th>\n",
              "      <th>Review Votes</th>\n",
              "      <th>stopwords</th>\n",
              "      <th>lower_case</th>\n",
              "      <th>cleanedtext</th>\n",
              "    </tr>\n",
              "  </thead>\n",
              "  <tbody>\n",
              "    <tr>\n",
              "      <th>0</th>\n",
              "      <td>\"CLEAR CLEAN ESN\" Sprint EPIC 4G Galaxy SPH-D7...</td>\n",
              "      <td>Samsung</td>\n",
              "      <td>199.99</td>\n",
              "      <td>positive</td>\n",
              "      <td>I feel so LUCKY to have found this used (phone...</td>\n",
              "      <td>1.0</td>\n",
              "      <td>I feel LUCKY found used (phone us &amp; used hard ...</td>\n",
              "      <td>i feel lucky found used (phone us &amp; used hard ...</td>\n",
              "      <td>i feel lucky found used phone us  used hard al...</td>\n",
              "    </tr>\n",
              "    <tr>\n",
              "      <th>21</th>\n",
              "      <td>\"CLEAR CLEAN ESN\" Sprint EPIC 4G Galaxy SPH-D7...</td>\n",
              "      <td>Samsung</td>\n",
              "      <td>199.99</td>\n",
              "      <td>positive</td>\n",
              "      <td>pros-beautiful screen,capable of running chrom...</td>\n",
              "      <td>0.0</td>\n",
              "      <td>pros-beautiful screen,capable running chrome,t...</td>\n",
              "      <td>pros-beautiful screen,capable running chrome,t...</td>\n",
              "      <td>prosbeautiful screencapable running chrometake...</td>\n",
              "    </tr>\n",
              "    <tr>\n",
              "      <th>22</th>\n",
              "      <td>\"CLEAR CLEAN ESN\" Sprint EPIC 4G Galaxy SPH-D7...</td>\n",
              "      <td>Samsung</td>\n",
              "      <td>199.99</td>\n",
              "      <td>negative</td>\n",
              "      <td>I purchased this phone in December as a christ...</td>\n",
              "      <td>19.0</td>\n",
              "      <td>I purchased phone December christmas present s...</td>\n",
              "      <td>i purchased phone december christmas present s...</td>\n",
              "      <td>i purchased phone december christmas present s...</td>\n",
              "    </tr>\n",
              "    <tr>\n",
              "      <th>23</th>\n",
              "      <td>\"CLEAR CLEAN ESN\" Sprint EPIC 4G Galaxy SPH-D7...</td>\n",
              "      <td>Samsung</td>\n",
              "      <td>199.99</td>\n",
              "      <td>positive</td>\n",
              "      <td>Phone good just a little slow phone old but it...</td>\n",
              "      <td>0.0</td>\n",
              "      <td>Phone good little slow phone old it's great ph...</td>\n",
              "      <td>phone good little slow phone old it's great ph...</td>\n",
              "      <td>phone good little slow phone old its great pho...</td>\n",
              "    </tr>\n",
              "    <tr>\n",
              "      <th>24</th>\n",
              "      <td>\"CLEAR CLEAN ESN\" Sprint EPIC 4G Galaxy SPH-D7...</td>\n",
              "      <td>Samsung</td>\n",
              "      <td>199.99</td>\n",
              "      <td>positive</td>\n",
              "      <td>Phone's speaker little low. Overall very happy...</td>\n",
              "      <td>0.0</td>\n",
              "      <td>Phone's speaker little low. Overall happy phon...</td>\n",
              "      <td>phone's speaker little low. overall happy phon...</td>\n",
              "      <td>phones speaker little low overall happy phone ...</td>\n",
              "    </tr>\n",
              "    <tr>\n",
              "      <th>...</th>\n",
              "      <td>...</td>\n",
              "      <td>...</td>\n",
              "      <td>...</td>\n",
              "      <td>...</td>\n",
              "      <td>...</td>\n",
              "      <td>...</td>\n",
              "      <td>...</td>\n",
              "      <td>...</td>\n",
              "      <td>...</td>\n",
              "    </tr>\n",
              "    <tr>\n",
              "      <th>166</th>\n",
              "      <td>[XMAS DEAL] [New Edition] Jethro [SC213V2] Fli...</td>\n",
              "      <td>Jethro</td>\n",
              "      <td>79.99</td>\n",
              "      <td>positive</td>\n",
              "      <td>everything was great. had a hard time getting ...</td>\n",
              "      <td>0.0</td>\n",
              "      <td>everything great. hard time getting old SIM ca...</td>\n",
              "      <td>everything great. hard time getting old sim ca...</td>\n",
              "      <td>everything great hard time getting old sim car...</td>\n",
              "    </tr>\n",
              "    <tr>\n",
              "      <th>165</th>\n",
              "      <td>[XMAS DEAL] [New Edition] Jethro [SC213V2] Fli...</td>\n",
              "      <td>Jethro</td>\n",
              "      <td>79.99</td>\n",
              "      <td>positive</td>\n",
              "      <td>[New Edition] Jethro [SC213V2] Flip Quad-band ...</td>\n",
              "      <td>0.0</td>\n",
              "      <td>[New Edition] Jethro [SC213V2] Flip Quad-band ...</td>\n",
              "      <td>[new edition] jethro [sc213v2] flip quad-band ...</td>\n",
              "      <td>new edition jethro sc213v2 flip quadband unloc...</td>\n",
              "    </tr>\n",
              "    <tr>\n",
              "      <th>164</th>\n",
              "      <td>[XMAS DEAL] [New Edition] Jethro [SC213V2] Fli...</td>\n",
              "      <td>Jethro</td>\n",
              "      <td>79.99</td>\n",
              "      <td>negative</td>\n",
              "      <td>I was contacting Jethro customer service, beca...</td>\n",
              "      <td>1.0</td>\n",
              "      <td>I contacting Jethro customer service, couple k...</td>\n",
              "      <td>i contacting jethro customer service, couple k...</td>\n",
              "      <td>i contacting jethro customer service couple ke...</td>\n",
              "    </tr>\n",
              "    <tr>\n",
              "      <th>173</th>\n",
              "      <td>[XMAS DEAL] [New Edition] Jethro [SC213V2] Fli...</td>\n",
              "      <td>Jethro</td>\n",
              "      <td>79.99</td>\n",
              "      <td>positive</td>\n",
              "      <td>Bought for my mom! She loves it!</td>\n",
              "      <td>8.0</td>\n",
              "      <td>Bought mom! She loves it!</td>\n",
              "      <td>bought mom! she loves it!</td>\n",
              "      <td>bought mom she loves it</td>\n",
              "    </tr>\n",
              "    <tr>\n",
              "      <th>169</th>\n",
              "      <td>[XMAS DEAL] [New Edition] Jethro [SC213V2] Fli...</td>\n",
              "      <td>Jethro</td>\n",
              "      <td>79.99</td>\n",
              "      <td>positive</td>\n",
              "      <td>Met expectations, easy to use, gave as gift ve...</td>\n",
              "      <td>1.0</td>\n",
              "      <td>Met expectations, easy use, gave gift veto eld...</td>\n",
              "      <td>met expectations, easy use, gave gift veto eld...</td>\n",
              "      <td>met expectations easy use gave gift veto elder...</td>\n",
              "    </tr>\n",
              "  </tbody>\n",
              "</table>\n",
              "<p>302 rows × 9 columns</p>\n",
              "</div>"
            ],
            "text/plain": [
              "                                          Product Name  ...                                        cleanedtext\n",
              "0    \"CLEAR CLEAN ESN\" Sprint EPIC 4G Galaxy SPH-D7...  ...  i feel lucky found used phone us  used hard al...\n",
              "21   \"CLEAR CLEAN ESN\" Sprint EPIC 4G Galaxy SPH-D7...  ...  prosbeautiful screencapable running chrometake...\n",
              "22   \"CLEAR CLEAN ESN\" Sprint EPIC 4G Galaxy SPH-D7...  ...  i purchased phone december christmas present s...\n",
              "23   \"CLEAR CLEAN ESN\" Sprint EPIC 4G Galaxy SPH-D7...  ...  phone good little slow phone old its great pho...\n",
              "24   \"CLEAR CLEAN ESN\" Sprint EPIC 4G Galaxy SPH-D7...  ...  phones speaker little low overall happy phone ...\n",
              "..                                                 ...  ...                                                ...\n",
              "166  [XMAS DEAL] [New Edition] Jethro [SC213V2] Fli...  ...  everything great hard time getting old sim car...\n",
              "165  [XMAS DEAL] [New Edition] Jethro [SC213V2] Fli...  ...  new edition jethro sc213v2 flip quadband unloc...\n",
              "164  [XMAS DEAL] [New Edition] Jethro [SC213V2] Fli...  ...  i contacting jethro customer service couple ke...\n",
              "173  [XMAS DEAL] [New Edition] Jethro [SC213V2] Fli...  ...                            bought mom she loves it\n",
              "169  [XMAS DEAL] [New Edition] Jethro [SC213V2] Fli...  ...  met expectations easy use gave gift veto elder...\n",
              "\n",
              "[302 rows x 9 columns]"
            ]
          },
          "metadata": {
            "tags": []
          },
          "execution_count": 33
        }
      ]
    },
    {
      "cell_type": "code",
      "metadata": {
        "id": "Cb4SmZ2Hl8iI",
        "colab": {
          "base_uri": "https://localhost:8080/"
        },
        "outputId": "f09c0868-78c2-435f-a9d0-c461f1cdb87f"
      },
      "source": [
        "#k-means using bag of words\n",
        "# Generating bag of words features.\n",
        "from sklearn.feature_extraction.text import CountVectorizer\n",
        "count_vect = CountVectorizer()\n",
        "bow = count_vect.fit_transform(final['cleanedtext'].values)\n",
        "bow.shape"
      ],
      "execution_count": 34,
      "outputs": [
        {
          "output_type": "execute_result",
          "data": {
            "text/plain": [
              "(302, 2261)"
            ]
          },
          "metadata": {
            "tags": []
          },
          "execution_count": 34
        }
      ]
    },
    {
      "cell_type": "code",
      "metadata": {
        "id": "hZoOIw6Inqjf",
        "colab": {
          "base_uri": "https://localhost:8080/"
        },
        "outputId": "7eea4024-b252-426b-d875-20af12a6b0bf"
      },
      "source": [
        "terms = count_vect.get_feature_names()\n",
        "terms[1:10]"
      ],
      "execution_count": 35,
      "outputs": [
        {
          "output_type": "execute_result",
          "data": {
            "text/plain": [
              "['100', '1080p', '1080pthis', '110', '112017', '115', '12', '1400', '1425']"
            ]
          },
          "metadata": {
            "tags": []
          },
          "execution_count": 35
        }
      ]
    },
    {
      "cell_type": "code",
      "metadata": {
        "id": "nax-8z_un7tO",
        "colab": {
          "base_uri": "https://localhost:8080/"
        },
        "outputId": "ffa14f46-782c-4284-cc22-6dca39aa282c"
      },
      "source": [
        "#using all processes jobs=-1 and k means++ for starting initilization advantage\n",
        "from sklearn.cluster import KMeans\n",
        "model = KMeans(n_clusters = 10,init='k-means++', n_jobs = -1,random_state=99)\n",
        "model.fit(bow)"
      ],
      "execution_count": 36,
      "outputs": [
        {
          "output_type": "execute_result",
          "data": {
            "text/plain": [
              "KMeans(algorithm='auto', copy_x=True, init='k-means++', max_iter=300,\n",
              "       n_clusters=10, n_init=10, n_jobs=-1, precompute_distances='auto',\n",
              "       random_state=99, tol=0.0001, verbose=0)"
            ]
          },
          "metadata": {
            "tags": []
          },
          "execution_count": 36
        }
      ]
    },
    {
      "cell_type": "code",
      "metadata": {
        "colab": {
          "base_uri": "https://localhost:8080/"
        },
        "id": "HOFEJ91zsO_v",
        "outputId": "da964732-67a4-42ca-881f-db01b87367a3"
      },
      "source": [
        "labels = model.labels_\n",
        "cluster_center=model.cluster_centers_\n",
        "cluster_center"
      ],
      "execution_count": 37,
      "outputs": [
        {
          "output_type": "execute_result",
          "data": {
            "text/plain": [
              "array([[0., 0., 0., ..., 0., 0., 0.],\n",
              "       [0., 0., 0., ..., 0., 0., 0.],\n",
              "       [0., 0., 0., ..., 0., 0., 0.],\n",
              "       ...,\n",
              "       [0., 0., 0., ..., 0., 0., 0.],\n",
              "       [1., 0., 0., ..., 0., 0., 0.],\n",
              "       [0., 0., 0., ..., 0., 0., 0.]])"
            ]
          },
          "metadata": {
            "tags": []
          },
          "execution_count": 37
        }
      ]
    },
    {
      "cell_type": "code",
      "metadata": {
        "colab": {
          "base_uri": "https://localhost:8080/"
        },
        "id": "8Gk7FHwmsyX-",
        "outputId": "82e72e19-1c8d-46f8-c773-9591b35bd226"
      },
      "source": [
        "#clusters \n",
        "from sklearn import metrics\n",
        "silhouette_score = metrics.silhouette_score(bow, labels, metric='euclidean')\n",
        "silhouette_score"
      ],
      "execution_count": 38,
      "outputs": [
        {
          "output_type": "execute_result",
          "data": {
            "text/plain": [
              "0.3772427219921309"
            ]
          },
          "metadata": {
            "tags": []
          },
          "execution_count": 38
        }
      ]
    },
    {
      "cell_type": "code",
      "metadata": {
        "colab": {
          "base_uri": "https://localhost:8080/",
          "height": 370
        },
        "id": "SZjb7aVfwVew",
        "outputId": "a22566ea-8a6e-4be8-ec1c-bcda6110a8ba"
      },
      "source": [
        "# Giving Labels/assigning a cluster to each point or text\n",
        "df = final\n",
        "df['Bow Clus Label'] = model.labels_ # the last column you can see the label numebers\n",
        "df.head(2)"
      ],
      "execution_count": 39,
      "outputs": [
        {
          "output_type": "stream",
          "text": [
            "/usr/local/lib/python3.7/dist-packages/ipykernel_launcher.py:3: SettingWithCopyWarning: \n",
            "A value is trying to be set on a copy of a slice from a DataFrame.\n",
            "Try using .loc[row_indexer,col_indexer] = value instead\n",
            "\n",
            "See the caveats in the documentation: https://pandas.pydata.org/pandas-docs/stable/user_guide/indexing.html#returning-a-view-versus-a-copy\n",
            "  This is separate from the ipykernel package so we can avoid doing imports until\n"
          ],
          "name": "stderr"
        },
        {
          "output_type": "execute_result",
          "data": {
            "text/html": [
              "<div>\n",
              "<style scoped>\n",
              "    .dataframe tbody tr th:only-of-type {\n",
              "        vertical-align: middle;\n",
              "    }\n",
              "\n",
              "    .dataframe tbody tr th {\n",
              "        vertical-align: top;\n",
              "    }\n",
              "\n",
              "    .dataframe thead th {\n",
              "        text-align: right;\n",
              "    }\n",
              "</style>\n",
              "<table border=\"1\" class=\"dataframe\">\n",
              "  <thead>\n",
              "    <tr style=\"text-align: right;\">\n",
              "      <th></th>\n",
              "      <th>Product Name</th>\n",
              "      <th>Brand Name</th>\n",
              "      <th>Price</th>\n",
              "      <th>Rating</th>\n",
              "      <th>Reviews</th>\n",
              "      <th>Review Votes</th>\n",
              "      <th>stopwords</th>\n",
              "      <th>lower_case</th>\n",
              "      <th>cleanedtext</th>\n",
              "      <th>Bow Clus Label</th>\n",
              "    </tr>\n",
              "  </thead>\n",
              "  <tbody>\n",
              "    <tr>\n",
              "      <th>0</th>\n",
              "      <td>\"CLEAR CLEAN ESN\" Sprint EPIC 4G Galaxy SPH-D7...</td>\n",
              "      <td>Samsung</td>\n",
              "      <td>199.99</td>\n",
              "      <td>positive</td>\n",
              "      <td>I feel so LUCKY to have found this used (phone...</td>\n",
              "      <td>1.0</td>\n",
              "      <td>I feel LUCKY found used (phone us &amp; used hard ...</td>\n",
              "      <td>i feel lucky found used (phone us &amp; used hard ...</td>\n",
              "      <td>i feel lucky found used phone us  used hard al...</td>\n",
              "      <td>5</td>\n",
              "    </tr>\n",
              "    <tr>\n",
              "      <th>21</th>\n",
              "      <td>\"CLEAR CLEAN ESN\" Sprint EPIC 4G Galaxy SPH-D7...</td>\n",
              "      <td>Samsung</td>\n",
              "      <td>199.99</td>\n",
              "      <td>positive</td>\n",
              "      <td>pros-beautiful screen,capable of running chrom...</td>\n",
              "      <td>0.0</td>\n",
              "      <td>pros-beautiful screen,capable running chrome,t...</td>\n",
              "      <td>pros-beautiful screen,capable running chrome,t...</td>\n",
              "      <td>prosbeautiful screencapable running chrometake...</td>\n",
              "      <td>5</td>\n",
              "    </tr>\n",
              "  </tbody>\n",
              "</table>\n",
              "</div>"
            ],
            "text/plain": [
              "                                         Product Name  ... Bow Clus Label\n",
              "0   \"CLEAR CLEAN ESN\" Sprint EPIC 4G Galaxy SPH-D7...  ...              5\n",
              "21  \"CLEAR CLEAN ESN\" Sprint EPIC 4G Galaxy SPH-D7...  ...              5\n",
              "\n",
              "[2 rows x 10 columns]"
            ]
          },
          "metadata": {
            "tags": []
          },
          "execution_count": 39
        }
      ]
    },
    {
      "cell_type": "code",
      "metadata": {
        "colab": {
          "base_uri": "https://localhost:8080/"
        },
        "id": "amOmHkMlwiqz",
        "outputId": "170a5681-2283-4e67-9aa2-a9b9a0e38443"
      },
      "source": [
        "# How many points belong to each cluster \n",
        "df.groupby(['Bow Clus Label'])['lower_case'].count()"
      ],
      "execution_count": 40,
      "outputs": [
        {
          "output_type": "execute_result",
          "data": {
            "text/plain": [
              "Bow Clus Label\n",
              "0      1\n",
              "1      8\n",
              "2      1\n",
              "3      1\n",
              "4     34\n",
              "5    253\n",
              "6      1\n",
              "7      1\n",
              "8      1\n",
              "9      1\n",
              "Name: lower_case, dtype: int64"
            ]
          },
          "metadata": {
            "tags": []
          },
          "execution_count": 40
        }
      ]
    },
    {
      "cell_type": "code",
      "metadata": {
        "colab": {
          "base_uri": "https://localhost:8080/"
        },
        "id": "3GTKpKxlw7b4",
        "outputId": "852c4616-b7a5-461d-aa77-a7ea5cee7887"
      },
      "source": [
        "#top 10 features\n",
        "print(\"Top terms per cluster:\")\n",
        "order_centroids = model.cluster_centers_.argsort()[:, ::-1]\n",
        "terms = count_vect.get_feature_names()\n",
        "for i in range(10):\n",
        "    print(\"Cluster %d:\" % i, end='')\n",
        "    for ind in order_centroids[i, :10]:\n",
        "        print(' %s' % terms[ind], end='')\n",
        "        print()"
      ],
      "execution_count": 41,
      "outputs": [
        {
          "output_type": "stream",
          "text": [
            "Top terms per cluster:\n",
            "Cluster 0: phone\n",
            " the\n",
            " card\n",
            " would\n",
            " sim\n",
            " facebook\n",
            " place\n",
            " problem\n",
            " store\n",
            " nokia\n",
            "Cluster 1: phone\n",
            " like\n",
            " good\n",
            " get\n",
            " work\n",
            " it\n",
            " card\n",
            " even\n",
            " perfect\n",
            " otterbox\n",
            "Cluster 2: phone\n",
            " the\n",
            " data\n",
            " features\n",
            " use\n",
            " smart\n",
            " even\n",
            " want\n",
            " nokia\n",
            " there\n",
            "Cluster 3: phone\n",
            " the\n",
            " screen\n",
            " also\n",
            " battery\n",
            " price\n",
            " point\n",
            " would\n",
            " one\n",
            " however\n",
            "Cluster 4: phone\n",
            " the\n",
            " it\n",
            " one\n",
            " use\n",
            " would\n",
            " great\n",
            " this\n",
            " like\n",
            " its\n",
            "Cluster 5: phone\n",
            " good\n",
            " it\n",
            " great\n",
            " use\n",
            " the\n",
            " like\n",
            " work\n",
            " easy\n",
            " one\n",
            "Cluster 6: phone\n",
            " dont\n",
            " youre\n",
            " smartphone\n",
            " best\n",
            " it\n",
            " looking\n",
            " use\n",
            " this\n",
            " small\n",
            "Cluster 7: phone\n",
            " set\n",
            " since\n",
            " one\n",
            " it\n",
            " senior\n",
            " mom\n",
            " comes\n",
            " its\n",
            " phones\n",
            "Cluster 8: unlock\n",
            " phone\n",
            " key\n",
            " press\n",
            " price\n",
            " the\n",
            " difficult\n",
            " presses\n",
            " lock\n",
            " method\n",
            "Cluster 9: phone\n",
            " nokia\n",
            " 302\n",
            " asha\n",
            " dont\n",
            " ive\n",
            " radio\n",
            " really\n",
            " sound\n",
            " much\n"
          ],
          "name": "stdout"
        }
      ]
    },
    {
      "cell_type": "code",
      "metadata": {
        "colab": {
          "base_uri": "https://localhost:8080/",
          "height": 295
        },
        "id": "MWRn3KTdxoqS",
        "outputId": "c81e0a75-a5b2-4393-9ef8-33b0c16c5b6a"
      },
      "source": [
        "#visualization\n",
        "import matplotlib.pyplot as plt\n",
        "plt.bar([x for x in range(10)], df.groupby(['Bow Clus Label'])['Reviews'].count(), alpha = 0.4)\n",
        "plt.title('KMeans cluster points')\n",
        "plt.xlabel(\"Cluster number\")\n",
        "plt.ylabel(\"Number of points\")\n",
        "plt.show()"
      ],
      "execution_count": 42,
      "outputs": [
        {
          "output_type": "display_data",
          "data": {
            "image/png": "[encoded data removed]",
            "text/plain": [
              "<Figure size 432x288 with 1 Axes>"
            ]
          },
          "metadata": {
            "tags": [],
            "needs_background": "light"
          }
        }
      ]
    },
    {
      "cell_type": "code",
      "metadata": {
        "id": "lITJVakm0U_6"
      },
      "source": [
        "# Train your own Word2Vec model using your own text corpus\n",
        "i=0\n",
        "list_of_sent=[]\n",
        "for sent in final['cleanedtext'].values:\n",
        "    list_of_sent.append(sent.split())"
      ],
      "execution_count": 43,
      "outputs": []
    },
    {
      "cell_type": "code",
      "metadata": {
        "colab": {
          "base_uri": "https://localhost:8080/"
        },
        "id": "lHOE7k_g0er3",
        "outputId": "a7e9bc03-980e-4db8-c0a4-f3ef1af4e4a7"
      },
      "source": [
        "print(final['cleanedtext'].values[0])\n",
        "print(\"*****************************************************************\")\n",
        "print(list_of_sent[0])"
      ],
      "execution_count": 44,
      "outputs": [
        {
          "output_type": "stream",
          "text": [
            "i feel lucky found used phone us  used hard all phone line someone upgraded sold one my son liked old one finally fell apart 25 years didnt want upgrade thank seller really appreciate  honesty re said used phonei recommend seller highly  would again\n",
            "*****************************************************************\n",
            "['i', 'feel', 'lucky', 'found', 'used', 'phone', 'us', 'used', 'hard', 'all', 'phone', 'line', 'someone', 'upgraded', 'sold', 'one', 'my', 'son', 'liked', 'old', 'one', 'finally', 'fell', 'apart', '25', 'years', 'didnt', 'want', 'upgrade', 'thank', 'seller', 'really', 'appreciate', 'honesty', 're', 'said', 'used', 'phonei', 'recommend', 'seller', 'highly', 'would', 'again']\n"
          ],
          "name": "stdout"
        }
      ]
    },
    {
      "cell_type": "code",
      "metadata": {
        "id": "rlVaxdnI0w0F"
      },
      "source": [
        "# removing html tags and apostrophes if present.\n",
        "import re\n",
        "def cleanhtml(sentence): #function to clean the word of any html-tags\n",
        "    cleanr = re.compile('<.*?>')\n",
        "    cleantext = re.sub(cleanr, ' ', sentence)\n",
        "    return cleantext\n",
        "def cleanpunc(sentence): #function to clean the word of any punctuation or special characters\n",
        "    cleaned = re.sub(r'[?|!|\\'|\"|#]',r'',sentence)\n",
        "    cleaned = re.sub(r'[.|,|)|(|\\|/]',r' ',cleaned)\n",
        "    return  cleaned"
      ],
      "execution_count": 45,
      "outputs": []
    },
    {
      "cell_type": "code",
      "metadata": {
        "id": "uFUhyW7b1T22"
      },
      "source": [
        "i=0\n",
        "list_of_sent_train=[]\n",
        "for sent in final['cleanedtext'].values:\n",
        "    filtered_sentence=[]\n",
        "    sent=cleanhtml(sent)\n",
        "    for w in sent.split():\n",
        "        for cleaned_words in cleanpunc(w).split():\n",
        "            if(cleaned_words.isalpha()):    \n",
        "                filtered_sentence.append(cleaned_words.lower())\n",
        "            else:\n",
        "                continue \n",
        "    list_of_sent_train.append(filtered_sentence)"
      ],
      "execution_count": 46,
      "outputs": []
    },
    {
      "cell_type": "code",
      "metadata": {
        "id": "-jmFyfMk033_"
      },
      "source": [
        "import gensim\n",
        "# Training the wor2vec model using train dataset\n",
        "w2v_model=gensim.models.Word2Vec(list_of_sent_train,size=100, workers=4)"
      ],
      "execution_count": 47,
      "outputs": []
    },
    {
      "cell_type": "code",
      "metadata": {
        "colab": {
          "base_uri": "https://localhost:8080/"
        },
        "id": "8cIrQb4U1Y7R",
        "outputId": "107ac874-fef9-4507-8259-85046659ee91"
      },
      "source": [
        "import numpy as np\n",
        "sent_vectors = []; # the avg-w2v for each sentence/review is stored in this train\n",
        "for sent in list_of_sent_train: # for each review/sentence\n",
        "    sent_vec = np.zeros(100) # as word vectors are of zero length\n",
        "    cnt_words =0; # num of words with a valid vector in the sentence/review\n",
        "    for word in sent: # for each word in a review/sentence\n",
        "        try:\n",
        "            vec = w2v_model.wv[word]\n",
        "            sent_vec += vec\n",
        "            cnt_words += 1\n",
        "        except:\n",
        "            pass\n",
        "    sent_vec /= cnt_words\n",
        "    sent_vectors.append(sent_vec)\n",
        "sent_vectors = np.array(sent_vectors)\n",
        "sent_vectors = np.nan_to_num(sent_vectors)\n",
        "sent_vectors.shape"
      ],
      "execution_count": 48,
      "outputs": [
        {
          "output_type": "stream",
          "text": [
            "/usr/local/lib/python3.7/dist-packages/ipykernel_launcher.py:13: RuntimeWarning: invalid value encountered in true_divide\n",
            "  del sys.path[0]\n"
          ],
          "name": "stderr"
        },
        {
          "output_type": "execute_result",
          "data": {
            "text/plain": [
              "(302, 100)"
            ]
          },
          "metadata": {
            "tags": []
          },
          "execution_count": 48
        }
      ]
    },
    {
      "cell_type": "code",
      "metadata": {
        "colab": {
          "base_uri": "https://localhost:8080/"
        },
        "id": "IcRZ8smWzz0u",
        "outputId": "db827ec0-25a5-4501-9c21-e1c44cf98d3f"
      },
      "source": [
        "# Number of clusters to check.\n",
        "num_clus = [x for x in range(3,11)]\n",
        "num_clus"
      ],
      "execution_count": 49,
      "outputs": [
        {
          "output_type": "execute_result",
          "data": {
            "text/plain": [
              "[3, 4, 5, 6, 7, 8, 9, 10]"
            ]
          },
          "metadata": {
            "tags": []
          },
          "execution_count": 49
        }
      ]
    },
    {
      "cell_type": "code",
      "metadata": {
        "colab": {
          "base_uri": "https://localhost:8080/",
          "height": 329
        },
        "id": "oFcggKnez1N0",
        "outputId": "020aedf8-830a-4426-d3e9-2a5fe1608e99"
      },
      "source": [
        "squared_errors = []\n",
        "for cluster in num_clus:\n",
        "    kmeans = KMeans(n_clusters = cluster).fit(sent_vectors) # Train Cluster\n",
        "    squared_errors.append(kmeans.inertia_) # Appending the squared loss obtained in the list\n",
        "    \n",
        "optimal_clusters = np.argmin(squared_errors) + 2 # As argmin return the index of minimum loss. \n",
        "plt.plot(num_clus, squared_errors)\n",
        "plt.title(\"Elbow Curve to find the no. of clusters.\")\n",
        "plt.xlabel(\"Number of clusters.\")\n",
        "plt.ylabel(\"Squared Loss.\")\n",
        "xy = (optimal_clusters, min(squared_errors))\n",
        "plt.annotate('(%s, %s)' % xy, xy = xy, textcoords='data')\n",
        "plt.show()\n",
        "\n",
        "print (\"The optimal number of clusters obtained is - \", optimal_clusters)\n",
        "print (\"The loss for optimal cluster is - \", min(squared_errors))"
      ],
      "execution_count": 50,
      "outputs": [
        {
          "output_type": "display_data",
          "data": {
            "image/png": "[encoded data removed]",
            "text/plain": [
              "<Figure size 432x288 with 1 Axes>"
            ]
          },
          "metadata": {
            "tags": [],
            "needs_background": "light"
          }
        },
        {
          "output_type": "stream",
          "text": [
            "The optimal number of clusters obtained is -  9\n",
            "The loss for optimal cluster is -  0.17549548976506585\n"
          ],
          "name": "stdout"
        }
      ]
    },
    {
      "cell_type": "code",
      "metadata": {
        "colab": {
          "base_uri": "https://localhost:8080/"
        },
        "id": "ZQ9A1tok1rIz",
        "outputId": "072dd368-d173-4b0d-fab0-8b89f00131d2"
      },
      "source": [
        "# Training the best model --\n",
        "from sklearn.cluster import KMeans\n",
        "model2 = KMeans(n_clusters = optimal_clusters)\n",
        "model2.fit(sent_vectors)"
      ],
      "execution_count": 51,
      "outputs": [
        {
          "output_type": "execute_result",
          "data": {
            "text/plain": [
              "KMeans(algorithm='auto', copy_x=True, init='k-means++', max_iter=300,\n",
              "       n_clusters=9, n_init=10, n_jobs=None, precompute_distances='auto',\n",
              "       random_state=None, tol=0.0001, verbose=0)"
            ]
          },
          "metadata": {
            "tags": []
          },
          "execution_count": 51
        }
      ]
    },
    {
      "cell_type": "code",
      "metadata": {
        "colab": {
          "base_uri": "https://localhost:8080/"
        },
        "id": "YvzhqxkX10rM",
        "outputId": "cb998925-35ad-42ca-d845-ec2f926ceaf3"
      },
      "source": [
        "word_cluster_pred=model2.predict(sent_vectors)\n",
        "word_cluster_pred_2=model2.labels_\n",
        "word_cluster_center=model2.cluster_centers_\n",
        "word_cluster_center[1:2]"
      ],
      "execution_count": 52,
      "outputs": [
        {
          "output_type": "execute_result",
          "data": {
            "text/plain": [
              "array([[-1.16587752e-02, -6.05652567e-03, -4.07636412e-02,\n",
              "         3.09837007e-02, -1.00096257e-02, -4.16562952e-02,\n",
              "        -1.59573478e-02, -4.33931302e-02,  4.62727065e-02,\n",
              "         4.00684817e-02, -1.37675571e-02, -3.34569911e-02,\n",
              "         1.59185844e-02,  1.41287498e-02, -2.53364296e-03,\n",
              "        -3.75405463e-02, -4.03944241e-02, -6.76155525e-03,\n",
              "        -1.54775893e-02,  7.66690149e-03, -2.15603886e-02,\n",
              "        -5.91371933e-03, -1.12093440e-03, -1.72636117e-02,\n",
              "        -7.53230653e-03,  5.15438395e-02, -9.27543410e-06,\n",
              "        -3.88628649e-03, -1.69216253e-02, -4.16944887e-02,\n",
              "        -6.54843580e-03,  2.55259320e-03,  9.86673784e-03,\n",
              "         6.08710008e-03, -2.66823677e-02,  5.19131664e-02,\n",
              "         2.87810191e-03,  1.29877152e-02, -5.33013703e-04,\n",
              "         1.13003662e-02, -1.24099652e-02,  1.17031393e-02,\n",
              "         3.07581107e-02,  1.75755427e-03, -3.91543541e-02,\n",
              "         3.18421262e-02,  2.57641433e-02,  1.22447662e-02,\n",
              "         9.13087607e-03, -2.71519573e-02,  1.97074043e-02,\n",
              "         3.19538685e-04, -7.24600965e-03,  1.13686431e-03,\n",
              "         6.10937846e-02,  1.61161800e-02,  9.30721552e-03,\n",
              "         9.53801896e-03, -1.86692456e-02,  1.26372041e-03,\n",
              "        -1.25996613e-02,  2.23737487e-02,  3.93868808e-03,\n",
              "         1.42402170e-02,  1.16853350e-02, -3.00163723e-02,\n",
              "        -1.26607790e-02, -8.37662004e-04,  1.86785995e-02,\n",
              "         1.86446336e-02,  2.88122352e-02, -1.15093215e-02,\n",
              "         2.86639633e-02, -4.20510946e-02, -4.47163062e-03,\n",
              "         4.31324521e-02,  1.72741018e-02,  2.38867144e-02,\n",
              "         3.21250362e-02, -1.71713967e-02,  1.45255725e-02,\n",
              "        -3.15856827e-03, -3.41806100e-02, -3.21528184e-02,\n",
              "         3.03780244e-02,  2.08532115e-03,  2.44516534e-02,\n",
              "        -3.64428356e-02,  4.39986905e-02,  3.44421399e-02,\n",
              "         9.94050565e-03,  1.67282285e-02,  7.29253571e-03,\n",
              "        -5.28162900e-02,  2.17832019e-02, -1.22522938e-02,\n",
              "        -5.08287222e-02,  2.80415124e-02, -6.53367978e-03,\n",
              "         8.17485377e-03]])"
            ]
          },
          "metadata": {
            "tags": []
          },
          "execution_count": 52
        }
      ]
    },
    {
      "cell_type": "code",
      "metadata": {
        "colab": {
          "base_uri": "https://localhost:8080/"
        },
        "id": "mz9Mu05V3-qN",
        "outputId": "3a92ea50-eb8b-4ba0-c23f-e3457ce8bb71"
      },
      "source": [
        "dfa = df\n",
        "dfa['AVG-W2V Clus Label'] = model2.labels_\n",
        "dfa.head(2)\n",
        "# How many points belong to each cluster ->\n",
        "dfa.groupby(['AVG-W2V Clus Label'])['Reviews'].count()"
      ],
      "execution_count": 53,
      "outputs": [
        {
          "output_type": "stream",
          "text": [
            "/usr/local/lib/python3.7/dist-packages/ipykernel_launcher.py:2: SettingWithCopyWarning: \n",
            "A value is trying to be set on a copy of a slice from a DataFrame.\n",
            "Try using .loc[row_indexer,col_indexer] = value instead\n",
            "\n",
            "See the caveats in the documentation: https://pandas.pydata.org/pandas-docs/stable/user_guide/indexing.html#returning-a-view-versus-a-copy\n",
            "  \n"
          ],
          "name": "stderr"
        },
        {
          "output_type": "execute_result",
          "data": {
            "text/plain": [
              "AVG-W2V Clus Label\n",
              "0    59\n",
              "1    40\n",
              "2     2\n",
              "3    25\n",
              "4    74\n",
              "5     8\n",
              "6    31\n",
              "7    48\n",
              "8    15\n",
              "Name: Reviews, dtype: int64"
            ]
          },
          "metadata": {
            "tags": []
          },
          "execution_count": 53
        }
      ]
    },
    {
      "cell_type": "code",
      "metadata": {
        "colab": {
          "base_uri": "https://localhost:8080/"
        },
        "id": "UdPBZ6JH3OgM",
        "outputId": "1ea40f2e-d2a8-450f-e771-88eba49f8052"
      },
      "source": [
        "# Reading a review which belong to each group.\n",
        "for i in range(optimal_clusters):\n",
        "    print(\"A review of assigned to cluster \", i)\n",
        "    print(\"-\" * 70)\n",
        "    print(df.iloc[df.groupby(['AVG-W2V Clus Label']).groups[i][0]]['Reviews'])\n",
        "    print('\\n')\n",
        "    print(df.iloc[df.groupby(['AVG-W2V Clus Label']).groups[i][1]]['Reviews'])\n",
        "    print('\\n')\n",
        "    print(\"_\" * 70)"
      ],
      "execution_count": 54,
      "outputs": [
        {
          "output_type": "stream",
          "text": [
            "A review of assigned to cluster  0\n",
            "----------------------------------------------------------------------\n",
            "It works good but it goes slow sometimes but its a very good phone I love it\n",
            "\n",
            "\n",
            "I originally was using the Samsung S2 Galaxy for Sprint and wanted to return back to the Samsung EPIC 4G for Sprint because I really missed the keyboard, I really liked the smaller compact size of the phone, and I still needed some of the basic functions of a smart phone (i.e. checking e-mail, getting directions, text messaging) Because the phone is not as powerful as the newer cell phones out there, just be aware that the more applications you install the slower the phone runs and will most likely freeze up from time to time. But the camera works great, the video is great as well, and even the web browsing is decent and gives me what I need. I also notice that battery life lasts a little bit longer and charging the phone is much quicker than my Galaxy S2.\n",
            "\n",
            "\n",
            "______________________________________________________________________\n",
            "A review of assigned to cluster  1\n",
            "----------------------------------------------------------------------\n",
            "Phone looks good but wouldn't stay charged, had to buy new battery. Still couldn't stay charged long.so I trashed it.MONEY lost, never again will I buy from this person! !!!\n",
            "\n",
            "\n",
            "These guys are the best! I had a little situation with my item but they quickly fixed the issue. I was pleased and will definitely be buying another phon from them if I need one.\n",
            "\n",
            "\n",
            "______________________________________________________________________\n",
            "A review of assigned to cluster  2\n",
            "----------------------------------------------------------------------\n",
            "The Phone is pretty good. I am using it with a LycaMobile plan. Only thing that is awkward is that the bottom row of letters is off compared to other phones and devices. Before this I had been using a blackberry. When trying to type on the nokia I am always mistyping Ms, Ns and espectially the shift key (which you need to hit to insert any punctuation)\n",
            "\n",
            "\n",
            "a pretty capable, durable texting phone, unlocked as advertised, but the version i received had arabic on the keys in addition to the typical ISO basic latin and many symbols missing, like \"!\".\n",
            "\n",
            "\n",
            "______________________________________________________________________\n",
            "A review of assigned to cluster  3\n",
            "----------------------------------------------------------------------\n",
            "This is a great product it came after two days of ordering it. There was only one little blemish on the side,but who cares as long as the phone is fullly functional.i recommend this product to anyone reading this.\n",
            "\n",
            "\n",
            "I purchased this phone in December as a christmas present to my son. I called sprint to activate the phone only to find out the ESN wasn't clear. I was told to come into the store and upon research the phone wasn't clear. I reached out to this company to inform them that this ESN wasn't clean. I was told to send the phone back and they would send out another phone. I asked the representative to provide me with the ESN # so that I could call and make sure it was clear. I was told that they didn't have to phone available and was guaranteed it would be clear. I should've known something was wrong then. I received a second phone that turned out not have a clear ESN. The representative at Sprint informed me that the seller of these phones are aware the the ESN isn't clear. So once again I had to send another phone back. I asked for a refund for the phone and shipping since the sent me two phones that didn't have a clear ESN. I received my refund for the phone but have yet to see a refund for the shipping. I wouldn't suggest you buy anything from them.\n",
            "\n",
            "\n",
            "______________________________________________________________________\n",
            "A review of assigned to cluster  4\n",
            "----------------------------------------------------------------------\n",
            "The charging port was loose. I got that soldered in. Then needed a new battery as well. $100 later (not including cost of purchase) I have a usable phone. The phone should not have been sold in the state it was in.\n",
            "\n",
            "\n",
            "I already had a phone with problems... I know it stated it was used, but dang, it did not state that it did not charge. I wish I would have read these comments then I would have not purchased this item.... and its cracked on the side.. damaged goods is what it is.... If trying to charge it another way does not work I am requesting for my money back... AND I WILL GET MY MONEY BACK...SIGNED AN UNHAPPY CUSTOMER....\n",
            "\n",
            "\n",
            "______________________________________________________________________\n",
            "A review of assigned to cluster  5\n",
            "----------------------------------------------------------------------\n",
            "loved everything about it. also it looks like any other touch phone but is not. which makes it stylish yet classic.\n",
            "\n",
            "\n",
            "Bought it as a gift for my Mum and she loves it. It is a strong durable phone, has good reception and it functions well.\n",
            "\n",
            "\n",
            "______________________________________________________________________\n",
            "A review of assigned to cluster  6\n",
            "----------------------------------------------------------------------\n",
            "Great phone to replace my lost phone. The only thing is the volume up button does not work, but I can still go into settings to adjust. Other than that, it does the job until I am eligible to upgrade my phone again.Thaanks!\n",
            "\n",
            "\n",
            "I love the phone. It does everything I need and works great. I purchased four of these phones through a seller that shipped from Amazon's warehouse. My only problem is that the phone didn't come with a micro sd card. I couldn't use the camera until I got the card. No problems getting these activated at Sprint.\n",
            "\n",
            "\n",
            "______________________________________________________________________\n",
            "A review of assigned to cluster  7\n",
            "----------------------------------------------------------------------\n",
            "I feel so LUCKY to have found this used (phone to us & not used hard at all), phone on line from someone who upgraded and sold this one. My Son liked his old one that finally fell apart after 2.5+ years and didn't want an upgrade!! Thank you Seller, we really appreciate it & your honesty re: said used phone.I recommend this seller very highly & would but from them again!!\n",
            "\n",
            "\n",
            "Very pleased\n",
            "\n",
            "\n",
            "______________________________________________________________________\n",
            "A review of assigned to cluster  8\n",
            "----------------------------------------------------------------------\n",
            "Excellent phone for my youngest son, with walk in reasonable options, and quality first\n",
            "\n",
            "\n",
            "Hola, compramos dos teléfonos y vienieron totalente diferentes, uno vino con la batería dañada, se descarga de inmediato. El otro teléfono vino sin la tarjeta de memoria y los teclados y cargadores son muy distintos.Mi Tía y yo nos sentimos engañadas y defraudadas :(\n",
            "\n",
            "\n",
            "______________________________________________________________________\n"
          ],
          "name": "stdout"
        }
      ]
    },
    {
      "cell_type": "code",
      "metadata": {
        "id": "FSr_MxLfyJ1o"
      },
      "source": [
        "#clustering DBSCAN\n",
        "from sklearn.cluster import DBSCAN\n",
        "# Computing 200th Nearest neighbour distance\n",
        "minPts = 2 * 100\n",
        "def lower_bound(nums, target): \n",
        "    l, r = 0, len(nums) - 1\n",
        "    while l <= r: \n",
        "        mid = int(l + (r - l) / 2)\n",
        "        if nums[mid] >= target:\n",
        "            r = mid - 1\n",
        "        else:\n",
        "            l = mid + 1\n",
        "    return l\n",
        "def compute200thnearestneighbour(x, data): # Returns the distance of 200th nearest neighbour.\n",
        "    dists = []\n",
        "    for val in data:\n",
        "        dist = np.sum((x - val) **2 ) # computing distances.\n",
        "        if(len(dists) == 200 and dists[199] > dist): \n",
        "            l = int(lower_bound(dists, dist)) \n",
        "            if l < 200 and l >= 0 and dists[l] > dist:\n",
        "                dists[l] = dist\n",
        "        else:\n",
        "            dists.append(dist)\n",
        "            dists.sort()\n",
        "    \n",
        "    return dists[199] "
      ],
      "execution_count": 55,
      "outputs": []
    },
    {
      "cell_type": "code",
      "metadata": {
        "id": "emxRlZoCzOvQ"
      },
      "source": [
        "# Computing the 200th nearest neighbour distance of some point the dataset:\n",
        "twohundrethneigh = []\n",
        "for val in sent_vectors[:1500]:\n",
        "    twohundrethneigh.append( compute200thnearestneighbour(val, sent_vectors[:1500]) )\n",
        "twohundrethneigh.sort()"
      ],
      "execution_count": 56,
      "outputs": []
    },
    {
      "cell_type": "code",
      "metadata": {
        "colab": {
          "base_uri": "https://localhost:8080/",
          "height": 295
        },
        "id": "F-r8mXpK4sTc",
        "outputId": "af951a8b-9da1-43f1-d07a-da4b258c5803"
      },
      "source": [
        "# Plotting for the Elbow Method :\n",
        "plt.figure(figsize=(14,4))\n",
        "plt.title(\"Elbow Method for Finding the right Eps hyperparameter\")\n",
        "plt.plot([x for x in range(len(twohundrethneigh))], twohundrethneigh)\n",
        "plt.xlabel(\"Number of points\")\n",
        "plt.ylabel(\"Distance of 200th Nearest Neighbour\")\n",
        "plt.show()"
      ],
      "execution_count": 57,
      "outputs": [
        {
          "output_type": "display_data",
          "data": {
            "image/png": "[encoded data removed]",
            "text/plain": [
              "<Figure size 1008x288 with 1 Axes>"
            ]
          },
          "metadata": {
            "tags": [],
            "needs_background": "light"
          }
        }
      ]
    },
    {
      "cell_type": "code",
      "metadata": {
        "colab": {
          "base_uri": "https://localhost:8080/"
        },
        "id": "Gslen1J840tB",
        "outputId": "07b029a7-08ed-4eb6-f21f-5ce8e9217845"
      },
      "source": [
        "# Training DBSCAN :\n",
        "model = DBSCAN(eps = 5, min_samples = minPts, n_jobs=-1)\n",
        "model.fit(sent_vectors)"
      ],
      "execution_count": 58,
      "outputs": [
        {
          "output_type": "execute_result",
          "data": {
            "text/plain": [
              "DBSCAN(algorithm='auto', eps=5, leaf_size=30, metric='euclidean',\n",
              "       metric_params=None, min_samples=200, n_jobs=-1, p=None)"
            ]
          },
          "metadata": {
            "tags": []
          },
          "execution_count": 58
        }
      ]
    },
    {
      "cell_type": "code",
      "metadata": {
        "colab": {
          "base_uri": "https://localhost:8080/",
          "height": 387
        },
        "id": "m3LtKgU94-1-",
        "outputId": "86742803-bdd9-4c12-a929-15ccf5e266e0"
      },
      "source": [
        "dfdb = dfa\n",
        "dfdb['AVG-W2V Clus Label'] = model.labels_\n",
        "dfdb.head(2)"
      ],
      "execution_count": 59,
      "outputs": [
        {
          "output_type": "stream",
          "text": [
            "/usr/local/lib/python3.7/dist-packages/ipykernel_launcher.py:2: SettingWithCopyWarning: \n",
            "A value is trying to be set on a copy of a slice from a DataFrame.\n",
            "Try using .loc[row_indexer,col_indexer] = value instead\n",
            "\n",
            "See the caveats in the documentation: https://pandas.pydata.org/pandas-docs/stable/user_guide/indexing.html#returning-a-view-versus-a-copy\n",
            "  \n"
          ],
          "name": "stderr"
        },
        {
          "output_type": "execute_result",
          "data": {
            "text/html": [
              "<div>\n",
              "<style scoped>\n",
              "    .dataframe tbody tr th:only-of-type {\n",
              "        vertical-align: middle;\n",
              "    }\n",
              "\n",
              "    .dataframe tbody tr th {\n",
              "        vertical-align: top;\n",
              "    }\n",
              "\n",
              "    .dataframe thead th {\n",
              "        text-align: right;\n",
              "    }\n",
              "</style>\n",
              "<table border=\"1\" class=\"dataframe\">\n",
              "  <thead>\n",
              "    <tr style=\"text-align: right;\">\n",
              "      <th></th>\n",
              "      <th>Product Name</th>\n",
              "      <th>Brand Name</th>\n",
              "      <th>Price</th>\n",
              "      <th>Rating</th>\n",
              "      <th>Reviews</th>\n",
              "      <th>Review Votes</th>\n",
              "      <th>stopwords</th>\n",
              "      <th>lower_case</th>\n",
              "      <th>cleanedtext</th>\n",
              "      <th>Bow Clus Label</th>\n",
              "      <th>AVG-W2V Clus Label</th>\n",
              "    </tr>\n",
              "  </thead>\n",
              "  <tbody>\n",
              "    <tr>\n",
              "      <th>0</th>\n",
              "      <td>\"CLEAR CLEAN ESN\" Sprint EPIC 4G Galaxy SPH-D7...</td>\n",
              "      <td>Samsung</td>\n",
              "      <td>199.99</td>\n",
              "      <td>positive</td>\n",
              "      <td>I feel so LUCKY to have found this used (phone...</td>\n",
              "      <td>1.0</td>\n",
              "      <td>I feel LUCKY found used (phone us &amp; used hard ...</td>\n",
              "      <td>i feel lucky found used (phone us &amp; used hard ...</td>\n",
              "      <td>i feel lucky found used phone us  used hard al...</td>\n",
              "      <td>5</td>\n",
              "      <td>0</td>\n",
              "    </tr>\n",
              "    <tr>\n",
              "      <th>21</th>\n",
              "      <td>\"CLEAR CLEAN ESN\" Sprint EPIC 4G Galaxy SPH-D7...</td>\n",
              "      <td>Samsung</td>\n",
              "      <td>199.99</td>\n",
              "      <td>positive</td>\n",
              "      <td>pros-beautiful screen,capable of running chrom...</td>\n",
              "      <td>0.0</td>\n",
              "      <td>pros-beautiful screen,capable running chrome,t...</td>\n",
              "      <td>pros-beautiful screen,capable running chrome,t...</td>\n",
              "      <td>prosbeautiful screencapable running chrometake...</td>\n",
              "      <td>5</td>\n",
              "      <td>0</td>\n",
              "    </tr>\n",
              "  </tbody>\n",
              "</table>\n",
              "</div>"
            ],
            "text/plain": [
              "                                         Product Name  ... AVG-W2V Clus Label\n",
              "0   \"CLEAR CLEAN ESN\" Sprint EPIC 4G Galaxy SPH-D7...  ...                  0\n",
              "21  \"CLEAR CLEAN ESN\" Sprint EPIC 4G Galaxy SPH-D7...  ...                  0\n",
              "\n",
              "[2 rows x 11 columns]"
            ]
          },
          "metadata": {
            "tags": []
          },
          "execution_count": 59
        }
      ]
    },
    {
      "cell_type": "code",
      "metadata": {
        "colab": {
          "base_uri": "https://localhost:8080/"
        },
        "id": "2QtltEKq5Pvc",
        "outputId": "18e1d883-b7b3-4be1-b0c4-e672a2907b17"
      },
      "source": [
        "dfdb.groupby(['AVG-W2V Clus Label'])['Product Name'].count()"
      ],
      "execution_count": 60,
      "outputs": [
        {
          "output_type": "execute_result",
          "data": {
            "text/plain": [
              "AVG-W2V Clus Label\n",
              "0    302\n",
              "Name: Product Name, dtype: int64"
            ]
          },
          "metadata": {
            "tags": []
          },
          "execution_count": 60
        }
      ]
    },
    {
      "cell_type": "code",
      "metadata": {
        "colab": {
          "base_uri": "https://localhost:8080/",
          "height": 282
        },
        "id": "7G6rShbT5oDb",
        "outputId": "c9064e8a-e7ca-4294-93f6-3bc16a13059c"
      },
      "source": [
        "#clustering hierarchical\n",
        "import scipy\n",
        "from scipy.cluster import hierarchy\n",
        "dendro=hierarchy.dendrogram(hierarchy.linkage(sent_vectors,method='ward'))\n",
        "plt.axhline(y=35)"
      ],
      "execution_count": 61,
      "outputs": [
        {
          "output_type": "execute_result",
          "data": {
            "text/plain": [
              "<matplotlib.lines.Line2D at 0x7f09401b40d0>"
            ]
          },
          "metadata": {
            "tags": []
          },
          "execution_count": 61
        },
        {
          "output_type": "display_data",
          "data": {
            "image/png": "[encoded data removed]",
            "text/plain": [
              "<Figure size 432x288 with 1 Axes>"
            ]
          },
          "metadata": {
            "tags": [],
            "needs_background": "light"
          }
        }
      ]
    },
    {
      "cell_type": "code",
      "metadata": {
        "id": "BYI4TR7r556L"
      },
      "source": [
        "from sklearn.cluster import AgglomerativeClustering\n",
        "\n",
        "cluster = AgglomerativeClustering(n_clusters=5, affinity='euclidean', linkage='ward')  #took n=5 from dendrogram curve \n",
        "Agg=cluster.fit_predict(sent_vectors)"
      ],
      "execution_count": 62,
      "outputs": []
    },
    {
      "cell_type": "code",
      "metadata": {
        "colab": {
          "base_uri": "https://localhost:8080/",
          "height": 387
        },
        "id": "aztwHlu26E_7",
        "outputId": "cb957279-ac46-469c-b394-b57c667a2b02"
      },
      "source": [
        "# Giving Labels/assigning a cluster to each point/text \n",
        "aggdfa = dfdb\n",
        "aggdfa['AVG-W2V Clus Label'] = cluster.labels_\n",
        "aggdfa.head(2)"
      ],
      "execution_count": 63,
      "outputs": [
        {
          "output_type": "stream",
          "text": [
            "/usr/local/lib/python3.7/dist-packages/ipykernel_launcher.py:3: SettingWithCopyWarning: \n",
            "A value is trying to be set on a copy of a slice from a DataFrame.\n",
            "Try using .loc[row_indexer,col_indexer] = value instead\n",
            "\n",
            "See the caveats in the documentation: https://pandas.pydata.org/pandas-docs/stable/user_guide/indexing.html#returning-a-view-versus-a-copy\n",
            "  This is separate from the ipykernel package so we can avoid doing imports until\n"
          ],
          "name": "stderr"
        },
        {
          "output_type": "execute_result",
          "data": {
            "text/html": [
              "<div>\n",
              "<style scoped>\n",
              "    .dataframe tbody tr th:only-of-type {\n",
              "        vertical-align: middle;\n",
              "    }\n",
              "\n",
              "    .dataframe tbody tr th {\n",
              "        vertical-align: top;\n",
              "    }\n",
              "\n",
              "    .dataframe thead th {\n",
              "        text-align: right;\n",
              "    }\n",
              "</style>\n",
              "<table border=\"1\" class=\"dataframe\">\n",
              "  <thead>\n",
              "    <tr style=\"text-align: right;\">\n",
              "      <th></th>\n",
              "      <th>Product Name</th>\n",
              "      <th>Brand Name</th>\n",
              "      <th>Price</th>\n",
              "      <th>Rating</th>\n",
              "      <th>Reviews</th>\n",
              "      <th>Review Votes</th>\n",
              "      <th>stopwords</th>\n",
              "      <th>lower_case</th>\n",
              "      <th>cleanedtext</th>\n",
              "      <th>Bow Clus Label</th>\n",
              "      <th>AVG-W2V Clus Label</th>\n",
              "    </tr>\n",
              "  </thead>\n",
              "  <tbody>\n",
              "    <tr>\n",
              "      <th>0</th>\n",
              "      <td>\"CLEAR CLEAN ESN\" Sprint EPIC 4G Galaxy SPH-D7...</td>\n",
              "      <td>Samsung</td>\n",
              "      <td>199.99</td>\n",
              "      <td>positive</td>\n",
              "      <td>I feel so LUCKY to have found this used (phone...</td>\n",
              "      <td>1.0</td>\n",
              "      <td>I feel LUCKY found used (phone us &amp; used hard ...</td>\n",
              "      <td>i feel lucky found used (phone us &amp; used hard ...</td>\n",
              "      <td>i feel lucky found used phone us  used hard al...</td>\n",
              "      <td>5</td>\n",
              "      <td>1</td>\n",
              "    </tr>\n",
              "    <tr>\n",
              "      <th>21</th>\n",
              "      <td>\"CLEAR CLEAN ESN\" Sprint EPIC 4G Galaxy SPH-D7...</td>\n",
              "      <td>Samsung</td>\n",
              "      <td>199.99</td>\n",
              "      <td>positive</td>\n",
              "      <td>pros-beautiful screen,capable of running chrom...</td>\n",
              "      <td>0.0</td>\n",
              "      <td>pros-beautiful screen,capable running chrome,t...</td>\n",
              "      <td>pros-beautiful screen,capable running chrome,t...</td>\n",
              "      <td>prosbeautiful screencapable running chrometake...</td>\n",
              "      <td>5</td>\n",
              "      <td>1</td>\n",
              "    </tr>\n",
              "  </tbody>\n",
              "</table>\n",
              "</div>"
            ],
            "text/plain": [
              "                                         Product Name  ... AVG-W2V Clus Label\n",
              "0   \"CLEAR CLEAN ESN\" Sprint EPIC 4G Galaxy SPH-D7...  ...                  1\n",
              "21  \"CLEAR CLEAN ESN\" Sprint EPIC 4G Galaxy SPH-D7...  ...                  1\n",
              "\n",
              "[2 rows x 11 columns]"
            ]
          },
          "metadata": {
            "tags": []
          },
          "execution_count": 63
        }
      ]
    },
    {
      "cell_type": "code",
      "metadata": {
        "colab": {
          "base_uri": "https://localhost:8080/"
        },
        "id": "DAjW9N746Qx-",
        "outputId": "ef9bd104-9373-4609-fa73-5852d0da34e1"
      },
      "source": [
        "# How many points belong to each cluster\n",
        "aggdfa.groupby(['AVG-W2V Clus Label'])['Reviews'].count()"
      ],
      "execution_count": 64,
      "outputs": [
        {
          "output_type": "execute_result",
          "data": {
            "text/plain": [
              "AVG-W2V Clus Label\n",
              "0     10\n",
              "1    145\n",
              "2     58\n",
              "3     67\n",
              "4     22\n",
              "Name: Reviews, dtype: int64"
            ]
          },
          "metadata": {
            "tags": []
          },
          "execution_count": 64
        }
      ]
    },
    {
      "cell_type": "code",
      "metadata": {
        "colab": {
          "base_uri": "https://localhost:8080/"
        },
        "id": "UHCns3Ne6blp",
        "outputId": "d8cf0e12-43ed-44dd-89c3-a50c4a7414c5"
      },
      "source": [
        "# Reading a review which belong to each group.\n",
        "for i in range(5):\n",
        "    print(\"2 reviews of assigned to cluster \", i)\n",
        "    print(\"-\" * 70)\n",
        "    print(aggdfa.iloc[aggdfa.groupby(['AVG-W2V Clus Label']).groups[i][0]]['Reviews'])\n",
        "    print('\\n')\n",
        "    print(aggdfa.iloc[aggdfa.groupby(['AVG-W2V Clus Label']).groups[i][1]]['Reviews'])\n",
        "    print('\\n')\n",
        "    print(\"_\" * 70)"
      ],
      "execution_count": 65,
      "outputs": [
        {
          "output_type": "stream",
          "text": [
            "2 reviews of assigned to cluster  0\n",
            "----------------------------------------------------------------------\n",
            "The Phone is pretty good. I am using it with a LycaMobile plan. Only thing that is awkward is that the bottom row of letters is off compared to other phones and devices. Before this I had been using a blackberry. When trying to type on the nokia I am always mistyping Ms, Ns and espectially the shift key (which you need to hit to insert any punctuation)\n",
            "\n",
            "\n",
            "loved everything about it. also it looks like any other touch phone but is not. which makes it stylish yet classic.\n",
            "\n",
            "\n",
            "______________________________________________________________________\n",
            "2 reviews of assigned to cluster  1\n",
            "----------------------------------------------------------------------\n",
            "I feel so LUCKY to have found this used (phone to us & not used hard at all), phone on line from someone who upgraded and sold this one. My Son liked his old one that finally fell apart after 2.5+ years and didn't want an upgrade!! Thank you Seller, we really appreciate it & your honesty re: said used phone.I recommend this seller very highly & would but from them again!!\n",
            "\n",
            "\n",
            "Very pleased\n",
            "\n",
            "\n",
            "______________________________________________________________________\n",
            "2 reviews of assigned to cluster  2\n",
            "----------------------------------------------------------------------\n",
            "Phone looks good but wouldn't stay charged, had to buy new battery. Still couldn't stay charged long.so I trashed it.MONEY lost, never again will I buy from this person! !!!\n",
            "\n",
            "\n",
            "These guys are the best! I had a little situation with my item but they quickly fixed the issue. I was pleased and will definitely be buying another phon from them if I need one.\n",
            "\n",
            "\n",
            "______________________________________________________________________\n",
            "2 reviews of assigned to cluster  3\n",
            "----------------------------------------------------------------------\n",
            "It works good but it goes slow sometimes but its a very good phone I love it\n",
            "\n",
            "\n",
            "Great phone to replace my lost phone. The only thing is the volume up button does not work, but I can still go into settings to adjust. Other than that, it does the job until I am eligible to upgrade my phone again.Thaanks!\n",
            "\n",
            "\n",
            "______________________________________________________________________\n",
            "2 reviews of assigned to cluster  4\n",
            "----------------------------------------------------------------------\n",
            "This is a great product it came after two days of ordering it. There was only one little blemish on the side,but who cares as long as the phone is fullly functional.i recommend this product to anyone reading this.\n",
            "\n",
            "\n",
            "Excellent phone for my youngest son, with walk in reasonable options, and quality first\n",
            "\n",
            "\n",
            "______________________________________________________________________\n"
          ],
          "name": "stdout"
        }
      ]
    },
    {
      "cell_type": "markdown",
      "metadata": {
        "id": "D5N07zoF4AiI"
      },
      "source": [
        "In one paragraph, please compare K means, DBSCAN and Hierarchical clustering. "
      ]
    },
    {
      "cell_type": "code",
      "metadata": {
        "id": "DOvm1les4AiI"
      },
      "source": [
        "'''K means classifies the reviews into different clustures. For kmeans, the clusters are clearly reflecting how ther are \n",
        "grouped and k means did the best on cluster center top terms.DBSCAN groups all the reviews into one cluster, so it is not best method.\n",
        "In hierarchical clustering it is difficult to understand type of reviews based on hierarchical formation.\n",
        "'''"
      ],
      "execution_count": null,
      "outputs": []
    }
  ]
}