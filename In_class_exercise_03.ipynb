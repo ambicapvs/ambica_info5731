{
  "nbformat": 4,
  "nbformat_minor": 0,
  "metadata": {
    "kernelspec": {
      "display_name": "Python 3",
      "language": "python",
      "name": "python3"
    },
    "language_info": {
      "codemirror_mode": {
        "name": "ipython",
        "version": 3
      },
      "file_extension": ".py",
      "mimetype": "text/x-python",
      "name": "python",
      "nbconvert_exporter": "python",
      "pygments_lexer": "ipython3",
      "version": "3.7.4"
    },
    "colab": {
      "name": "In-class-exercise-03.ipynb",
      "provenance": [],
      "include_colab_link": true
    }
  },
  "cells": [
    {
      "cell_type": "markdown",
      "metadata": {
        "id": "view-in-github",
        "colab_type": "text"
      },
      "source": [
        "<a href=\"https://colab.research.google.com/github/ambicapvs/ambica_info5731_spring2021/blob/main/In_class_exercise_03.ipynb\" target=\"_parent\"><img src=\"https://colab.research.google.com/assets/colab-badge.svg\" alt=\"Open In Colab\"/></a>"
      ]
    },
    {
      "cell_type": "markdown",
      "metadata": {
        "id": "V8VD5vDv9e-w"
      },
      "source": [
        "## The third In-class-exercise (9/16/2020, 20 points in total)"
      ]
    },
    {
      "cell_type": "markdown",
      "metadata": {
        "id": "Jo0e-_Zs9e-2"
      },
      "source": [
        "The purpose of this exercise is to under users' information needs, then collect the data for analysis."
      ]
    },
    {
      "cell_type": "markdown",
      "metadata": {
        "id": "15M-v7Xu9e-3"
      },
      "source": [
        "Question 1 (8 points): Describe an interesting research question (or practical question) you have in mind, what kind of data should be collected to answer the question(s)? How many data needed for the analysis? The detail steps for collecting and save the data. "
      ]
    },
    {
      "cell_type": "code",
      "metadata": {
        "id": "KEP4-5He9e-3"
      },
      "source": [
        "# Your answer here (no code for this question, write down your answer as detail as possible for the above questions):\n",
        "\n",
        "'''\n",
        "The data collection is top 500 greatest movies of all time on IMDb from the list https://www.imdb.com/list/ls050782187.\n",
        "The data needed for this analysis is to collect the titles of top 500 greatest movies .\n",
        "Steps for collecting and saving data:\n",
        "1.Find the URl of the pages from which the data should be collected.\n",
        "2.Install the Beautifulsoup library for the scraping process by using the command 'pip install beautifulsoup4' and install \n",
        "lxml library for parsing process by using the command 'pip install lxml'.\n",
        "3.Import the beautifulsoup and request libraries.\n",
        "4.Parse the data,locate and download the required data and store it in a new file.\n",
        "5.Save the collected data\n",
        "'''"
      ],
      "execution_count": null,
      "outputs": []
    },
    {
      "cell_type": "markdown",
      "metadata": {
        "id": "4PC4Zfhb9e-4"
      },
      "source": [
        "Question 2 (12 points): Write python code to collect 500 items of the data you plan to collect above."
      ]
    },
    {
      "cell_type": "code",
      "metadata": {
        "colab": {
          "base_uri": "https://localhost:8080/"
        },
        "id": "fpA4szSwwSi8",
        "outputId": "4e627740-8a7e-4de0-be5c-b55975ba8627"
      },
      "source": [
        "def GetGreatestMovies(page):\n",
        "  sample_html = requests.get('https://www.imdb.com/list/ls050782187/?page='+str(page)).text#get url\n",
        "  beauty = BeautifulSoup(sample_html,'lxml') #creating object\n",
        "  titles = beauty.find_all('h3',class_='lister-item-header')\n",
        "  return titles\n",
        "print(\"file saved\")\n",
        "with open('/content/sample_data/new.txt','w') as f:  #open new file in write mode to store data\n",
        "  for page in range(1,6):  #get data from all pages, top 500 are spread over 5 pages with 100 per page. \n",
        "    titles = GetGreatestMovies(page)\n",
        "    for e in titles:\n",
        "      a = e.text.replace(\"\\n\",\"\") #replace middle newline charswith nothing \n",
        "      f.write(a+\"\\n\") #writes into new file\n"
      ],
      "execution_count": 23,
      "outputs": [
        {
          "output_type": "stream",
          "text": [
            "file saved\n"
          ],
          "name": "stdout"
        }
      ]
    }
  ]
}