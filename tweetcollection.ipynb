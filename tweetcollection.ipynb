{
  "nbformat": 4,
  "nbformat_minor": 0,
  "metadata": {
    "colab": {
      "name": "tweetcollection.ipynb",
      "provenance": [],
      "authorship_tag": "ABX9TyNWrhMOrYxPmu4sNcMk6GXu",
      "include_colab_link": true
    },
    "kernelspec": {
      "name": "python3",
      "display_name": "Python 3"
    },
    "language_info": {
      "name": "python"
    }
  },
  "cells": [
    {
      "cell_type": "markdown",
      "metadata": {
        "id": "view-in-github",
        "colab_type": "text"
      },
      "source": [
        "<a href=\"https://colab.research.google.com/github/ambicapvs/ambica_info5731_spring2021/blob/main/tweetcollection.ipynb\" target=\"_parent\"><img src=\"https://colab.research.google.com/assets/colab-badge.svg\" alt=\"Open In Colab\"/></a>"
      ]
    },
    {
      "cell_type": "code",
      "metadata": {
        "id": "0QeVeUsWtNpC"
      },
      "source": [
        "#remove spaces from concepts\n",
        "import pandas as pd\n",
        "import csv\n",
        "\n",
        "df=pd.read_csv(\"/content/medicalRecordsnospace.csv\",sep=',',engine ='python', header=0,error_bad_lines=False)\n",
        "df[\"nospace\"] = df[\"concepts\"].str.replace(' ', '')\n",
        "df.head(5)"
      ],
      "execution_count": null,
      "outputs": []
    },
    {
      "cell_type": "code",
      "metadata": {
        "id": "jb-S3lvStHk7"
      },
      "source": [
        "import os\n",
        "import tweepy as tw\n",
        "import pandas as pd\n",
        "import json\n",
        "import sys\n",
        "\n",
        "accesstoken = \"<<>><<>>\"\n",
        "access_secret = \"<<>>\"\n",
        "consumerkey = \"<<>>\"\n",
        "consumersecret = <<>>\n",
        "auth = tw.OAuthHandler(consumerkey, consumersecret)\n",
        "auth.set_access_token(accesstoken, access_secret)\n",
        "\n",
        "'''\n",
        "sampledict = {\n",
        "    \"cui\":\"value\",\n",
        "    \"concepts\":\"value\",\n",
        "    \"tweets\":[]\n",
        "\n",
        "}\n",
        "'''\n",
        "\n",
        "\n",
        "def getTweets(searchword):\n",
        "    api = tw.API(auth, wait_on_rate_limit=True)\n",
        "    date_since = \"2021-01-01\"\n",
        "    date_until = \"2021-07-09\"\n",
        "    print(searchword)\n",
        "    tweets = [status._json for status in tw.Cursor(api.search, q=searchword, tweet_mode=\"extended\", count= 1000).items(50000)] #, since=date_since, until=date_until\n",
        "    filtertweets = []\n",
        "    for tweet in tweets:\n",
        "        d = tweet[\"full_text\"]\n",
        "        filtertweets.append(str(d))\n",
        "    return list(filtertweets)\n",
        "\n",
        "        \n",
        "def main():\n",
        "    df = pd.read_csv('research/medicalRecords.csv')\n",
        "    finallist = []\n",
        "    for i in df['concepts']:\n",
        "        try:\n",
        "            concepttweet = getTweets(str(i)+' -filter:retweets')\n",
        "            print(i)\n",
        "            sampledict = {\"cui\":df.loc[df.concepts == i, 'CUIs'].values[0], \"concepts\":i, \"tweets\": concepttweet}\n",
        "            finallist.append(sampledict)\n",
        "        except: \n",
        "            continue\n",
        "    print(finallist)\n",
        "    with open(\"research/tweetcollectionnew.json\",\"w\") as f:\n",
        "        json.dump(finallist, f, indent=4)\n",
        "    f.close()\n",
        "\n",
        "if __name__ == \"__main__\":\n",
        "  main()\n",
        "\n"
      ],
      "execution_count": null,
      "outputs": []
    }
  ]
}