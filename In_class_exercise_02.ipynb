{
  "nbformat": 4,
  "nbformat_minor": 0,
  "metadata": {
    "colab": {
      "name": "In_class_exercise_02.ipynb",
      "provenance": [],
      "collapsed_sections": [],
      "toc_visible": true,
      "include_colab_link": true
    },
    "kernelspec": {
      "display_name": "Python 3",
      "language": "python",
      "name": "python3"
    },
    "language_info": {
      "codemirror_mode": {
        "name": "ipython",
        "version": 3
      },
      "file_extension": ".py",
      "mimetype": "text/x-python",
      "name": "python",
      "nbconvert_exporter": "python",
      "pygments_lexer": "ipython3",
      "version": "3.7.4"
    }
  },
  "cells": [
    {
      "cell_type": "markdown",
      "metadata": {
        "id": "view-in-github",
        "colab_type": "text"
      },
      "source": [
        "<a href=\"https://colab.research.google.com/github/ambicapvs/ambica_info5731_spring2021/blob/main/In_class_exercise_02.ipynb\" target=\"_parent\"><img src=\"https://colab.research.google.com/assets/colab-badge.svg\" alt=\"Open In Colab\"/></a>"
      ]
    },
    {
      "cell_type": "markdown",
      "metadata": {
        "id": "oo5bsEh2eeWi"
      },
      "source": [
        "# **The second In-class-exercise (1/27/2021, 20 points in total)**\n"
      ]
    },
    {
      "cell_type": "markdown",
      "metadata": {
        "id": "2sPQ58dIeqgp"
      },
      "source": [
        "(1) Write a Python program to find the duplicate elements in a given array of integers. Return -1 If there are no such elements. (4 points)"
      ]
    },
    {
      "cell_type": "code",
      "metadata": {
        "colab": {
          "base_uri": "https://localhost:8080/"
        },
        "id": "mnrvKMFTeoJR",
        "outputId": "07ffa7e1-1085-4211-9f5c-ac4d6acdab08"
      },
      "source": [
        "def find_duplicate():\n",
        "  array = [11, 22, 133, 124,124,133,133, 411, 123 ,888]\n",
        "  a = set(array) #set removes duplicates from the list \n",
        "  result = {}\n",
        "  if len(array) == len(a): #No duplicates if set and list of same length\n",
        "    return(-1)\n",
        "  else:\n",
        "    for i in a:\n",
        "      count =0\n",
        "      for j in array:\n",
        "        if i ==j:\n",
        "          count = count + 1\n",
        "          if count > 1:\n",
        "            result[i] = count\n",
        "    return(\"Duplicates exists for these elements\",result)\n",
        "print(find_duplicate())\n",
        "\n"
      ],
      "execution_count": 1,
      "outputs": [
        {
          "output_type": "stream",
          "text": [
            "('Duplicates exists for these elements', {133: 3, 124: 2})\n"
          ],
          "name": "stdout"
        }
      ]
    },
    {
      "cell_type": "markdown",
      "metadata": {
        "id": "YYrH6n6IhZoQ"
      },
      "source": [
        "(2) Write a Python program to select all the Sundays of a specified year. (4 points)\n",
        "\n"
      ]
    },
    {
      "cell_type": "code",
      "metadata": {
        "colab": {
          "base_uri": "https://localhost:8080/"
        },
        "id": "OSfPLd23eLpX",
        "outputId": "0fd35cc8-3aa3-49e4-b999-87c802c8649e"
      },
      "source": [
        "import calendar \n",
        "def find_Sundays(year):\n",
        "  print(\"Identifying all Sundays for year:\",year)\n",
        "  obj = calendar.TextCalendar() # setting first day of the week as Sunday.\n",
        "  for months in range(1,13): #12 months\n",
        "    for days in obj.itermonthdays(year,months): #get days in month for given year,month\n",
        "      if ( days != 0 and calendar.weekday(year, months , days) == 6): # 0 is Monday\n",
        "        print(str(months)+\"/\"+str(days)+\"/\"+str(year)) #print output in format Month/Day/Year\n",
        "find_Sundays(2021)"
      ],
      "execution_count": 2,
      "outputs": [
        {
          "output_type": "stream",
          "text": [
            "Identifying all Sundays for year: 2021\n",
            "1/3/2021\n",
            "1/10/2021\n",
            "1/17/2021\n",
            "1/24/2021\n",
            "1/31/2021\n",
            "2/7/2021\n",
            "2/14/2021\n",
            "2/21/2021\n",
            "2/28/2021\n",
            "3/7/2021\n",
            "3/14/2021\n",
            "3/21/2021\n",
            "3/28/2021\n",
            "4/4/2021\n",
            "4/11/2021\n",
            "4/18/2021\n",
            "4/25/2021\n",
            "5/2/2021\n",
            "5/9/2021\n",
            "5/16/2021\n",
            "5/23/2021\n",
            "5/30/2021\n",
            "6/6/2021\n",
            "6/13/2021\n",
            "6/20/2021\n",
            "6/27/2021\n",
            "7/4/2021\n",
            "7/11/2021\n",
            "7/18/2021\n",
            "7/25/2021\n",
            "8/1/2021\n",
            "8/8/2021\n",
            "8/15/2021\n",
            "8/22/2021\n",
            "8/29/2021\n",
            "9/5/2021\n",
            "9/12/2021\n",
            "9/19/2021\n",
            "9/26/2021\n",
            "10/3/2021\n",
            "10/10/2021\n",
            "10/17/2021\n",
            "10/24/2021\n",
            "10/31/2021\n",
            "11/7/2021\n",
            "11/14/2021\n",
            "11/21/2021\n",
            "11/28/2021\n",
            "12/5/2021\n",
            "12/12/2021\n",
            "12/19/2021\n",
            "12/26/2021\n"
          ],
          "name": "stdout"
        }
      ]
    },
    {
      "cell_type": "markdown",
      "metadata": {
        "id": "UIpziZ6Sjie-"
      },
      "source": [
        "(3) Python files reading and writing. Download the “[exercise_02_data _collection.zip](https://github.com/unt-iialab/info5731_spring2021/blob/main/class_exercises/exercise_02_data_collection.zip)” to your local and un-zip it.\n",
        "\n",
        "*   Write a program to read all the txt files and save the sentences in all the files into one csv file with two columns, the first column is sentence id (txt file name+sentence line number), the second column is the sentence text content. (4 points)\n",
        "*   Remove all the punctuations from the sentences, save the processed sentences into a new column in the same csv file. (4 points)\n",
        "*   Ask the user to enter a word, return all the sentences that include this word, three kinds of information should be returned: sentence id, sentence text content, the count that user input word appear in the sentence. (4 points)\n",
        "\n"
      ]
    },
    {
      "cell_type": "code",
      "metadata": {
        "colab": {
          "base_uri": "https://localhost:8080/"
        },
        "id": "f3CUsrWOj1Xy",
        "outputId": "7080042e-d664-4648-a977-00cd5449aeda"
      },
      "source": [
        "import glob\n",
        "import string\n",
        "import csv\n",
        "files = glob.glob('/content/exercisefiles/ARTHROTEC.*.txt') #get all files matching path pattern\n",
        "def CreateOutputfile_1():\n",
        "  with open ('/content/results/results.csv', 'w', newline= '\\n') as csvfile:\n",
        "    outputfile = csv.writer(csvfile, delimiter=',')#setting delimiter to ,\n",
        "    outputfile.writerow([\"SentenceID\",\"Sentence Content\"]) #File header Row\n",
        "    for file in files:\n",
        "      filename = file.split(\"/\")[-1] # get individual file name \n",
        "      with open(file) as f: \n",
        "          lines = f.readlines()\n",
        "          linenum = 1\n",
        "          for line in lines:\n",
        "              outputstring = filename+str(linenum), line \n",
        "              outputfile.writerow(outputstring) #write rows to CSV file in format\n",
        "              linenum = linenum +1\n",
        "\n",
        "def CleanPunctuation_2():\n",
        "  readlines = csv.reader(open('/content/results/results.csv'))\n",
        "  outputlines = []\n",
        "  for readline in readlines:\n",
        "    sentence = readline[1]\n",
        "    a =sentence.translate(str.maketrans('', '', string.punctuation)) #removing punctuations\n",
        "    opline = readline[0],readline[1],a #append new sentence without punctuation\n",
        "    outputlines.append(opline)\n",
        "  return(outputlines)\n",
        "\n",
        "def UserInput_3(): # Function to take uservalue and provide result\n",
        "  searchvalue = input(\"Enter a word to be searched:\")\n",
        "  readlines = csv.reader(open('/content/results/results.csv'))\n",
        "  for readline in readlines:\n",
        "    if searchvalue in readline[1]:\n",
        "      print(\"Sentenceid: \"+readline[0]+\" Sentence: \"+readline[1]+\" Count: \"+str(readline[1].count(searchvalue)))\n",
        "\n",
        "\n",
        "CreateOutputfile_1()\n",
        "outputlines = CleanPunctuation_2()\n",
        "with open ('/content/results/results.csv', 'w', newline= '\\n') as csvfile:\n",
        "  outputfile = csv.writer(csvfile, delimiter=',')\n",
        "  for line in outputlines:\n",
        "    outputfile.writerow(line) #write results file with new column without punctuations\n",
        "UserInput_3()\n",
        "\n",
        "\n",
        "\n",
        "    \n",
        "\n",
        "\n",
        "\n"
      ],
      "execution_count": 96,
      "outputs": [
        {
          "output_type": "stream",
          "text": [
            "Enter a word to be searched:du\n",
            "Sentenceid: ARTHROTEC.12.txt5 Sentence: I am thinking of increasing it to twice per day and/or getting surgery and/or epidural steroid injection.\n",
            " Count: 1\n",
            "Sentenceid: ARTHROTEC.24.txt2 Sentence: It induced severe vaginal cramps without bleeding about 2 hours after I took the medication.\n",
            " Count: 1\n",
            "Sentenceid: ARTHROTEC.42.txt8 Sentence: After about two days (two doses), the cramps continued and began inhibiting my menstrual cycle (which I was due to start).\n",
            " Count: 1\n",
            "Sentenceid: ARTHROTEC.50.txt2 Sentence: Met with surgon last week to schedule hip replacement.\n",
            " Count: 1\n",
            "Sentenceid: ARTHROTEC.9.txt3 Sentence: very painful joints - but with this tablet, the pain is much much reduced.\n",
            " Count: 1\n",
            "Sentenceid: ARTHROTEC.17.txt2 Sentence: i had to keep dropping into a crouched position due to the severity of the lower abdominal pain.\n",
            " Count: 1\n",
            "Sentenceid: ARTHROTEC.17.txt5 Sentence: i already have anemia due to the gastric bleed.\n",
            " Count: 1\n",
            "Sentenceid: ARTHROTEC.87.txt2 Sentence: Cramps would start within 15 minutes of taking pill, even during meals.\n",
            " Count: 1\n",
            "Sentenceid: ARTHROTEC.87.txt3 Sentence: Reduced coccyx pain but the cramps and bloating were very uncomfortable.\n",
            " Count: 1\n",
            "Sentenceid: ARTHROTEC.53.txt1 Sentence: From day one of taking this pill I have experienced a significant reduction of pain in both areas and no stiffness in my hands, where before had very little mobility in my right hand, I have however experienced extreme pain/heavy bleeding and dizziness during my period which is not normal for me.\n",
            " Count: 2\n",
            "Sentenceid: ARTHROTEC.92.txt1 Sentence: Heavy, extended bleeding during menstruation.\n",
            " Count: 1\n",
            "Sentenceid: ARTHROTEC.56.txt2 Sentence: Had very bad cramps diarrhea and heavy bleeding even thought my period wasn't due for 3 more weeks\n",
            " Count: 1\n",
            "Sentenceid: ARTHROTEC.15.txt2 Sentence: Many unscheduled washroom stops over the time I've taken this medication.\n",
            " Count: 1\n",
            "Sentenceid: ARTHROTEC.15.txt8 Sentence: Probably alright for otherwise healthy individuals but those with other medical problems should probably avoid it.\n",
            " Count: 1\n",
            "Sentenceid: ARTHROTEC.32.txt1 Sentence: the first pill i took it caused severe abdominal pain but after taking the first one it never did that again , but recently i've been feeling like my stomach is full and empty at the same time hard to explain but thats what it felt like , and also have been getting bruises allover my body due to this drug , other than that my back is back to normal now and i am back at work.\n",
            " Count: 1\n",
            "Sentenceid: ARTHROTEC.60.txt1 Sentence: Took 1 pill with dinner, woke during the night with stomach pain.\n",
            " Count: 1\n",
            "Sentenceid: ARTHROTEC.60.txt2 Sentence: In the morning I discovered that I had bled heavily during the night.\n",
            " Count: 1\n",
            "Sentenceid: ARTHROTEC.29.txt3 Sentence: I had severe endometriosis and adenomyosis all my life, plus the impairment in blood clotting due to EDS, so my doctor probably should not have prescribed this drug.\n",
            " Count: 1\n",
            "Sentenceid: ARTHROTEC.95.txt4 Sentence: I was told to stop taking Arthrotec and am now using a natural product that seems to work it is called Pernamax.\n",
            " Count: 1\n",
            "Sentenceid: ARTHROTEC.62.txt3 Sentence: this product changed the way i have lived for 5 years.\n",
            " Count: 1\n",
            "Sentenceid: ARTHROTEC.30.txt8 Sentence: So now I am scheduled to have an endometrial biopsy on Wed.\n",
            " Count: 1\n",
            "Sentenceid: ARTHROTEC.30.txt13 Sentence: On top of that, I am now having to have a procedure that a 31 year old should not have to endure.\n",
            " Count: 2\n",
            "Sentenceid: ARTHROTEC.7.txt5 Sentence: I have had 2 trips back to dr, since this happened and a third visit due to the tachycardia is schedule in 3 more days.\n",
            " Count: 2\n",
            "Sentenceid: ARTHROTEC.26.txt5 Sentence: But not sure if my symptoms are due to the drug as i've been on it for so long with no side effects.\n",
            " Count: 1\n",
            "Sentenceid: ARTHROTEC.82.txt2 Sentence: Arthrotec seemed to induce my menstrual cramps and cause the pain to be severe.\n",
            " Count: 1\n"
          ],
          "name": "stdout"
        }
      ]
    },
    {
      "cell_type": "markdown",
      "metadata": {
        "id": "-12cqmJEpZOh"
      },
      "source": [
        "(4) Install packages nltk, numpy, scipy, pandas, and sklearn on Google Colab. Write a program to test whether they are installed successfully. (3 points for extra)"
      ]
    },
    {
      "cell_type": "code",
      "metadata": {
        "colab": {
          "base_uri": "https://localhost:8080/"
        },
        "id": "f1pn1Zl2qK77",
        "outputId": "61467198-bceb-4816-ae75-d54146f078b1"
      },
      "source": [
        "def PackageCheck(packagename):\n",
        "  try:\n",
        "    __import__(packagename) \n",
        "    print(packagename, \"is installed\")\n",
        "  except:\n",
        "    print(packagename, \"is not installed\") # if module not installed, import fails and exception thrown\n",
        "packages = ['nltk', 'numpy', 'scipy', 'pandas', 'sklearn']\n",
        "for packagename in packages:\n",
        "  PackageCheck(packagename)"
      ],
      "execution_count": 30,
      "outputs": [
        {
          "output_type": "stream",
          "text": [
            "nltk is installed\n",
            "numpy is installed\n",
            "scipy is installed\n",
            "pandas is installed\n",
            "sklearn is installed\n"
          ],
          "name": "stdout"
        }
      ]
    }
  ]
}