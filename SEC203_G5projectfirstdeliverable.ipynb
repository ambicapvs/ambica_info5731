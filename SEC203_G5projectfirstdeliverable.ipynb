{
  "nbformat": 4,
  "nbformat_minor": 0,
  "metadata": {
    "colab": {
      "name": "SEC203-G5projectfirstdeliverable.ipynb",
      "provenance": [],
      "collapsed_sections": [],
      "authorship_tag": "ABX9TyOUPf38+t2zhub7AKp8YKlX",
      "include_colab_link": true
    },
    "kernelspec": {
      "display_name": "Python 3",
      "name": "python3"
    },
    "language_info": {
      "name": "python"
    }
  },
  "cells": [
    {
      "cell_type": "markdown",
      "metadata": {
        "id": "view-in-github",
        "colab_type": "text"
      },
      "source": [
        "<a href=\"https://colab.research.google.com/github/ambicapvs/ambica_info5731_spring2021/blob/main/SEC203_G5projectfirstdeliverable.ipynb\" target=\"_parent\"><img src=\"https://colab.research.google.com/assets/colab-badge.svg\" alt=\"Open In Colab\"/></a>"
      ]
    },
    {
      "cell_type": "markdown",
      "metadata": {
        "id": "dylEAfBB0NYy"
      },
      "source": [
        "**Data Collection**"
      ]
    },
    {
      "cell_type": "code",
      "metadata": {
        "colab": {
          "base_uri": "https://localhost:8080/"
        },
        "id": "-aZCAR1AC9N5",
        "outputId": "638ad2e4-8be3-4605-d6ca-728f37595931"
      },
      "source": [
        "#Gathering data and Saving to CSV File. \n",
        "import os\n",
        "import tweepy as tw\n",
        "import pandas as pd\n",
        "import csv\n",
        "\n",
        "accesstoken = \"1363750390383013890-kmomosFdwL8bOz6BKFcAXE6dlpFFXC\"\n",
        "access_secret = \"***REDACTED BECAUSE PERSONAL ACCOUNT SECRET***\"\n",
        "consumerkey = \"egBVddzEfnyK3mY9OcfDMLhdg\"\n",
        "consumersecret = \"***REDACTED BECAUSE PERSONAL ACCOUNT SECRET***\"\n",
        "auth = tw.OAuthHandler(consumerkey, consumersecret)\n",
        "auth.set_access_token(accesstoken, access_secret)\n",
        "\n",
        "def getTweets(searchword):\n",
        "  api = tw.API(auth, wait_on_rate_limit=True)\n",
        "  date_since = \"2020-12-01\"\n",
        "  print(\"Gathering tweets for Vaccine \"+searchword)\n",
        "  tweets = tw.Cursor(api.search, q=searchword, count= 1000, lang=\"en\", since=date_since).items(10000)\n",
        "  return list(tweets)\n",
        "\n",
        "        \n",
        "def main():\n",
        "  #vaccines = ['moderna', 'pfizer', 'johnsonandjohnson'] # 'jjvaccine','jandjvaccine']\n",
        "  modernalist = getTweets('moderna -filter:retweets')\n",
        "  pfizerlist = getTweets('pfizer -filter:retweets')\n",
        "  with open(\"vaccinetweets.csv\",\"w\") as csv_file:\n",
        "    print(\"Writing CSV File\")\n",
        "    fieldnames = ['tweetid', 'moderna', 'pfizer']\n",
        "    writer = csv.DictWriter(csv_file, fieldnames=fieldnames)\n",
        "    writer.writeheader()\n",
        "    for i in range(10000):\n",
        "      writer.writerow({'tweetid': i , 'moderna': str(modernalist[i].text), 'pfizer': str(pfizerlist[i].text)})  #, 'johnsonandjohnson': str(johnsonandjohnsonlist[i].text)})\n",
        "\n",
        "\n",
        "if __name__ == \"__main__\":\n",
        "  main()\n",
        "\n",
        "\n"
      ],
      "execution_count": 26,
      "outputs": [
        {
          "output_type": "stream",
          "text": [
            "Gathering tweets for Vaccine moderna\n",
            "Gathering tweets for Vaccine pfizer\n",
            "Writing CSV File\n"
          ],
          "name": "stdout"
        }
      ]
    },
    {
      "cell_type": "markdown",
      "metadata": {
        "id": "Auk6Ee3h17FL"
      },
      "source": [
        "**CSV to dataframe**"
      ]
    },
    {
      "cell_type": "code",
      "metadata": {
        "id": "chReMxF6ox32",
        "colab": {
          "base_uri": "https://localhost:8080/",
          "height": 407
        },
        "outputId": "1104e507-7cfb-4c43-fec8-8c0625fd7cd9"
      },
      "source": [
        "\n",
        "dataframe = pd.read_csv('/content/vaccinetweets.csv',sep=',',engine ='python', header=0)\n",
        "dataframe"
      ],
      "execution_count": 27,
      "outputs": [
        {
          "output_type": "execute_result",
          "data": {
            "text/html": [
              "<div>\n",
              "<style scoped>\n",
              "    .dataframe tbody tr th:only-of-type {\n",
              "        vertical-align: middle;\n",
              "    }\n",
              "\n",
              "    .dataframe tbody tr th {\n",
              "        vertical-align: top;\n",
              "    }\n",
              "\n",
              "    .dataframe thead th {\n",
              "        text-align: right;\n",
              "    }\n",
              "</style>\n",
              "<table border=\"1\" class=\"dataframe\">\n",
              "  <thead>\n",
              "    <tr style=\"text-align: right;\">\n",
              "      <th></th>\n",
              "      <th>tweetid</th>\n",
              "      <th>moderna</th>\n",
              "      <th>pfizer</th>\n",
              "    </tr>\n",
              "  </thead>\n",
              "  <tbody>\n",
              "    <tr>\n",
              "      <th>0</th>\n",
              "      <td>0</td>\n",
              "      <td>2nd Moderna shot yesterday and had a 13 hour d...</td>\n",
              "      <td>@mredm99 Yes shipments into the ontario hub an...</td>\n",
              "    </tr>\n",
              "    <tr>\n",
              "      <th>1</th>\n",
              "      <td>1</td>\n",
              "      <td>@dysthymikey @scuriiosa 10000% esp if it’s Mod...</td>\n",
              "      <td>@catameep Not nearly as good as the 90+% effic...</td>\n",
              "    </tr>\n",
              "    <tr>\n",
              "      <th>2</th>\n",
              "      <td>2</td>\n",
              "      <td>RT @yungbiryanii: dj: all the moderna mamis an...</td>\n",
              "      <td>RT @JuddLegum: 3. Corporations that backed the...</td>\n",
              "    </tr>\n",
              "    <tr>\n",
              "      <th>3</th>\n",
              "      <td>3</td>\n",
              "      <td>RT @TurnbullWhitby: What Ford has said is not ...</td>\n",
              "      <td>New availability: Centura\\nDicks Sporting Good...</td>\n",
              "    </tr>\n",
              "    <tr>\n",
              "      <th>4</th>\n",
              "      <td>4</td>\n",
              "      <td>@RosieBarton @ccouja @yelich_ivana More than h...</td>\n",
              "      <td>RT @objsucks: the two pfizer doses entering my...</td>\n",
              "    </tr>\n",
              "    <tr>\n",
              "      <th>...</th>\n",
              "      <td>...</td>\n",
              "      <td>...</td>\n",
              "      <td>...</td>\n",
              "    </tr>\n",
              "    <tr>\n",
              "      <th>9995</th>\n",
              "      <td>9995</td>\n",
              "      <td>RT @yungbiryanii: dj: all the moderna mamis an...</td>\n",
              "      <td>RT @ummmkiara: csub is doing pfizer vaccine wa...</td>\n",
              "    </tr>\n",
              "    <tr>\n",
              "      <th>9996</th>\n",
              "      <td>9996</td>\n",
              "      <td>RT @knomia: Got my 1st moderna shot yesterday ...</td>\n",
              "      <td>@Sloths7777 Got Pfizer 2nd dose today &amp;amp; ye...</td>\n",
              "    </tr>\n",
              "    <tr>\n",
              "      <th>9997</th>\n",
              "      <td>9997</td>\n",
              "      <td>RT @yungbiryanii: dj: all the moderna mamis an...</td>\n",
              "      <td>RT @MarkLevineNYC: This is shaping up to be on...</td>\n",
              "    </tr>\n",
              "    <tr>\n",
              "      <th>9998</th>\n",
              "      <td>9998</td>\n",
              "      <td>RT @RoyCecely: There is certainly still volati...</td>\n",
              "      <td>RT @yungbiryanii: dj: all the moderna mamis an...</td>\n",
              "    </tr>\n",
              "    <tr>\n",
              "      <th>9999</th>\n",
              "      <td>9999</td>\n",
              "      <td>RT @okchealth: 2ND DOSE APPOINTMENTS AVAILABLE...</td>\n",
              "      <td>Took my mother to get her covid vaccine and th...</td>\n",
              "    </tr>\n",
              "  </tbody>\n",
              "</table>\n",
              "<p>10000 rows × 3 columns</p>\n",
              "</div>"
            ],
            "text/plain": [
              "      tweetid  ...                                             pfizer\n",
              "0           0  ...  @mredm99 Yes shipments into the ontario hub an...\n",
              "1           1  ...  @catameep Not nearly as good as the 90+% effic...\n",
              "2           2  ...  RT @JuddLegum: 3. Corporations that backed the...\n",
              "3           3  ...  New availability: Centura\\nDicks Sporting Good...\n",
              "4           4  ...  RT @objsucks: the two pfizer doses entering my...\n",
              "...       ...  ...                                                ...\n",
              "9995     9995  ...  RT @ummmkiara: csub is doing pfizer vaccine wa...\n",
              "9996     9996  ...  @Sloths7777 Got Pfizer 2nd dose today &amp; ye...\n",
              "9997     9997  ...  RT @MarkLevineNYC: This is shaping up to be on...\n",
              "9998     9998  ...  RT @yungbiryanii: dj: all the moderna mamis an...\n",
              "9999     9999  ...  Took my mother to get her covid vaccine and th...\n",
              "\n",
              "[10000 rows x 3 columns]"
            ]
          },
          "metadata": {
            "tags": []
          },
          "execution_count": 27
        }
      ]
    },
    {
      "cell_type": "markdown",
      "metadata": {
        "id": "WOtiSqAE2FVS"
      },
      "source": [
        "**Data cleaning**"
      ]
    },
    {
      "cell_type": "code",
      "metadata": {
        "colab": {
          "base_uri": "https://localhost:8080/",
          "height": 666
        },
        "id": "qtvQiALztOAL",
        "outputId": "92bc46c1-b34b-4a6a-b587-168fa31f5efc"
      },
      "source": [
        "import requests\n",
        "from textblob import Word\n",
        "import nltk\n",
        "nltk.download('wordnet')\n",
        "nltk.download('punkt')\n",
        "from textblob import TextBlob\n",
        "from nltk.stem import PorterStemmer\n",
        "\n",
        "\n",
        "def CleanData(dfcolumn):\n",
        "  linksremoved = dfcolumn.replace(to_replace=r'^https?:\\/\\/.*[\\r\\n]*',value='',regex=True)\n",
        "  punctuationremoved = linksremoved.str.replace('[^\\w\\s]','')\n",
        "  spclcharsremoved = punctuationremoved.str.replace('[^A-Za-z0-9 ]+','')\n",
        "  numsremoved = spclcharsremoved.str.replace('[^A-Za-z ]+','')\n",
        "  data = requests.get(\"https://gist.githubusercontent.com/sebleier/554280/raw/7e0e4a1ce04c2bb7bd41089c9821dbcf6d0c786c/NLTK's%2520list%2520of%2520english%2520stopwords\")\n",
        "  a = data.text\n",
        "  stop = a.split()\n",
        "  stopwordsremoved = numsremoved.apply(lambda x: \" \".join(x for x in x.split() if x not in stop))\n",
        "  lowercased = stopwordsremoved.apply(lambda x: \" \".join(x.lower() for x in x.split()))\n",
        "  tokenized = lowercased.apply(lambda x: TextBlob(x).words)\n",
        "  st = PorterStemmer()\n",
        "  stemmed = tokenized.apply(lambda x: \" \".join([st.stem(word) for word in x]))\n",
        "  #Lemmatization\n",
        "  lemmatized = stemmed.apply(lambda x: \" \".join([Word(word).lemmatize() for word in x.split()]))\n",
        "  return lemmatized\n",
        "\n",
        "modn = CleanData(dataframe['moderna'])\n",
        "pfizr = CleanData(dataframe['pfizer'])\n",
        "dataframe['moderna_cleaned'] = modn\n",
        "dataframe['pfizer_cleaned'] = pfizr\n",
        "\n",
        "dataframe\n"
      ],
      "execution_count": 28,
      "outputs": [
        {
          "output_type": "stream",
          "text": [
            "[nltk_data] Downloading package wordnet to /root/nltk_data...\n",
            "[nltk_data]   Package wordnet is already up-to-date!\n",
            "[nltk_data] Downloading package punkt to /root/nltk_data...\n",
            "[nltk_data]   Package punkt is already up-to-date!\n"
          ],
          "name": "stdout"
        },
        {
          "output_type": "execute_result",
          "data": {
            "text/html": [
              "<div>\n",
              "<style scoped>\n",
              "    .dataframe tbody tr th:only-of-type {\n",
              "        vertical-align: middle;\n",
              "    }\n",
              "\n",
              "    .dataframe tbody tr th {\n",
              "        vertical-align: top;\n",
              "    }\n",
              "\n",
              "    .dataframe thead th {\n",
              "        text-align: right;\n",
              "    }\n",
              "</style>\n",
              "<table border=\"1\" class=\"dataframe\">\n",
              "  <thead>\n",
              "    <tr style=\"text-align: right;\">\n",
              "      <th></th>\n",
              "      <th>tweetid</th>\n",
              "      <th>moderna</th>\n",
              "      <th>pfizer</th>\n",
              "      <th>moderna_cleaned</th>\n",
              "      <th>pfizer_cleaned</th>\n",
              "    </tr>\n",
              "  </thead>\n",
              "  <tbody>\n",
              "    <tr>\n",
              "      <th>0</th>\n",
              "      <td>0</td>\n",
              "      <td>2nd Moderna shot yesterday and had a 13 hour d...</td>\n",
              "      <td>@mredm99 Yes shipments into the ontario hub an...</td>\n",
              "      <td>nd moderna shot yesterday hour day today works...</td>\n",
              "      <td>mredm ye shipment ontario hub also undergo kin...</td>\n",
              "    </tr>\n",
              "    <tr>\n",
              "      <th>1</th>\n",
              "      <td>1</td>\n",
              "      <td>@dysthymikey @scuriiosa 10000% esp if it’s Mod...</td>\n",
              "      <td>@catameep Not nearly as good as the 90+% effic...</td>\n",
              "      <td>dysthymikey scuriiosa esp moderna</td>\n",
              "      <td>catameep not nearli good efficaci moderna pfiz...</td>\n",
              "    </tr>\n",
              "    <tr>\n",
              "      <th>2</th>\n",
              "      <td>2</td>\n",
              "      <td>RT @yungbiryanii: dj: all the moderna mamis an...</td>\n",
              "      <td>RT @JuddLegum: 3. Corporations that backed the...</td>\n",
              "      <td>rt yungbiryanii dj moderna mami pfizer papi le...</td>\n",
              "      <td>rt juddlegum corpor back sponsor georgia voter...</td>\n",
              "    </tr>\n",
              "    <tr>\n",
              "      <th>3</th>\n",
              "      <td>3</td>\n",
              "      <td>RT @TurnbullWhitby: What Ford has said is not ...</td>\n",
              "      <td>New availability: Centura\\nDicks Sporting Good...</td>\n",
              "      <td>rt turnbullwhitbi what ford said accur fed gov...</td>\n",
              "      <td>new avail centuradick sport good park lot h pf...</td>\n",
              "    </tr>\n",
              "    <tr>\n",
              "      <th>4</th>\n",
              "      <td>4</td>\n",
              "      <td>@RosieBarton @ccouja @yelich_ivana More than h...</td>\n",
              "      <td>RT @objsucks: the two pfizer doses entering my...</td>\n",
              "      <td>rosiebarton ccouja yelichivana more half milli...</td>\n",
              "      <td>rt objsuck two pfizer dose enter bloodstream h...</td>\n",
              "    </tr>\n",
              "    <tr>\n",
              "      <th>...</th>\n",
              "      <td>...</td>\n",
              "      <td>...</td>\n",
              "      <td>...</td>\n",
              "      <td>...</td>\n",
              "      <td>...</td>\n",
              "    </tr>\n",
              "    <tr>\n",
              "      <th>9995</th>\n",
              "      <td>9995</td>\n",
              "      <td>RT @yungbiryanii: dj: all the moderna mamis an...</td>\n",
              "      <td>RT @ummmkiara: csub is doing pfizer vaccine wa...</td>\n",
              "      <td>rt yungbiryanii dj moderna mami pfizer papi le...</td>\n",
              "      <td>rt ummmkiara csub pfizer vaccin walkin today a...</td>\n",
              "    </tr>\n",
              "    <tr>\n",
              "      <th>9996</th>\n",
              "      <td>9996</td>\n",
              "      <td>RT @knomia: Got my 1st moderna shot yesterday ...</td>\n",
              "      <td>@Sloths7777 Got Pfizer 2nd dose today &amp;amp; ye...</td>\n",
              "      <td>rt knomia got st moderna shot yesterday work s...</td>\n",
              "      <td>sloth got pfizer nd dose today amp ye i contin...</td>\n",
              "    </tr>\n",
              "    <tr>\n",
              "      <th>9997</th>\n",
              "      <td>9997</td>\n",
              "      <td>RT @yungbiryanii: dj: all the moderna mamis an...</td>\n",
              "      <td>RT @MarkLevineNYC: This is shaping up to be on...</td>\n",
              "      <td>rt yungbiryanii dj moderna mami pfizer papi le...</td>\n",
              "      <td>rt marklevinenyc thi shape one biggest day vax...</td>\n",
              "    </tr>\n",
              "    <tr>\n",
              "      <th>9998</th>\n",
              "      <td>9998</td>\n",
              "      <td>RT @RoyCecely: There is certainly still volati...</td>\n",
              "      <td>RT @yungbiryanii: dj: all the moderna mamis an...</td>\n",
              "      <td>rt roycec there certainli still volatil global...</td>\n",
              "      <td>rt yungbiryanii dj moderna mami pfizer papi le...</td>\n",
              "    </tr>\n",
              "    <tr>\n",
              "      <th>9999</th>\n",
              "      <td>9999</td>\n",
              "      <td>RT @okchealth: 2ND DOSE APPOINTMENTS AVAILABLE...</td>\n",
              "      <td>Took my mother to get her covid vaccine and th...</td>\n",
              "      <td>rt okchealth nd dose appoint avail weve ad two...</td>\n",
              "      <td>took mother get covid vaccin decid give one wi...</td>\n",
              "    </tr>\n",
              "  </tbody>\n",
              "</table>\n",
              "<p>10000 rows × 5 columns</p>\n",
              "</div>"
            ],
            "text/plain": [
              "      tweetid  ...                                     pfizer_cleaned\n",
              "0           0  ...  mredm ye shipment ontario hub also undergo kin...\n",
              "1           1  ...  catameep not nearli good efficaci moderna pfiz...\n",
              "2           2  ...  rt juddlegum corpor back sponsor georgia voter...\n",
              "3           3  ...  new avail centuradick sport good park lot h pf...\n",
              "4           4  ...  rt objsuck two pfizer dose enter bloodstream h...\n",
              "...       ...  ...                                                ...\n",
              "9995     9995  ...  rt ummmkiara csub pfizer vaccin walkin today a...\n",
              "9996     9996  ...  sloth got pfizer nd dose today amp ye i contin...\n",
              "9997     9997  ...  rt marklevinenyc thi shape one biggest day vax...\n",
              "9998     9998  ...  rt yungbiryanii dj moderna mami pfizer papi le...\n",
              "9999     9999  ...  took mother get covid vaccin decid give one wi...\n",
              "\n",
              "[10000 rows x 5 columns]"
            ]
          },
          "metadata": {
            "tags": []
          },
          "execution_count": 28
        }
      ]
    }
  ]
}
