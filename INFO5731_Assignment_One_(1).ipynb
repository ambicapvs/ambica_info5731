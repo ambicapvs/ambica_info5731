{
  "nbformat": 4,
  "nbformat_minor": 0,
  "metadata": {
    "colab": {
      "name": "INFO5731_Assignment_One (1).ipynb",
      "provenance": [],
      "collapsed_sections": [],
      "toc_visible": true,
      "include_colab_link": true
    },
    "kernelspec": {
      "display_name": "Python 3",
      "language": "python",
      "name": "python3"
    },
    "language_info": {
      "codemirror_mode": {
        "name": "ipython",
        "version": 3
      },
      "file_extension": ".py",
      "mimetype": "text/x-python",
      "name": "python",
      "nbconvert_exporter": "python",
      "pygments_lexer": "ipython3",
      "version": "3.7.4"
    }
  },
  "cells": [
    {
      "cell_type": "markdown",
      "metadata": {
        "id": "view-in-github",
        "colab_type": "text"
      },
      "source": [
        "<a href=\"https://colab.research.google.com/github/ambicapvs/ambica_info5731_spring2021/blob/main/INFO5731_Assignment_One_(1).ipynb\" target=\"_parent\"><img src=\"https://colab.research.google.com/assets/colab-badge.svg\" alt=\"Open In Colab\"/></a>"
      ]
    },
    {
      "cell_type": "markdown",
      "metadata": {
        "id": "Ryk8D1Q4Wsrp"
      },
      "source": [
        "# **INFO5731 Assignment One**"
      ]
    },
    {
      "cell_type": "markdown",
      "metadata": {
        "id": "90_NR8c5XGWc"
      },
      "source": [
        "# Question 1\n",
        "\n",
        "(20 points). Write a Python program to generate 12 random numbers between 1 and 100. Sort the list of numbers in ascending order and print it out. Sort the list of numbers in descending order and print it out. Calculate the average for the group and print it out."
      ]
    },
    {
      "cell_type": "code",
      "metadata": {
        "colab": {
          "base_uri": "https://localhost:8080/"
        },
        "id": "5QX6bJjGWXY9",
        "outputId": "44e9e8f5-4809-46fd-8509-b372effe0df9"
      },
      "source": [
        "import random\n",
        "sample = random.sample(range(1,100),12)\n",
        "print(\"Random list:\",sample)\n",
        "sample.sort()\n",
        "print(\"Ascending order:\",sample)\n",
        "sample.sort(reverse=True)\n",
        "print(\"Descending order:\",sample)\n",
        "avg = sum(sample)/len(sample)\n",
        "print(\"Average:\",avg)"
      ],
      "execution_count": 5,
      "outputs": [
        {
          "output_type": "stream",
          "text": [
            "Random list: [50, 75, 45, 81, 95, 19, 49, 30, 48, 35, 8, 39]\n",
            "Ascending order: [8, 19, 30, 35, 39, 45, 48, 49, 50, 75, 81, 95]\n",
            "Descending order: [95, 81, 75, 50, 49, 48, 45, 39, 35, 30, 19, 8]\n",
            "Average: 47.833333333333336\n"
          ],
          "name": "stdout"
        }
      ]
    },
    {
      "cell_type": "markdown",
      "metadata": {
        "id": "1F_PZdH9Sh49"
      },
      "source": [
        "# Question 2\n",
        "(25 points). Write a program that will do the following string formatting tasks:\n",
        "\n",
        "(1) Ask the user to enter two sentences.\n",
        "\n",
        "(2) Make each sentence into a list. Each element in the list should correspond to a word in the sentence. For example, if the sentence is \"Alas! Am I alive? This is my first python program\", the program should print out ['Alas, '!', 'Am', 'I', 'alive, '?', 'This', 'is', 'my', 'first', 'python', 'program'].\n",
        "\n",
        "(3) Compare the two sentences. Print out a list of words that occur in both sentences.\n",
        "\n",
        "(4) Remove any punctuation from the sentence and print it back out. It should remove at least the following characters, but it can remove more: period(“.”), comma (“,”), semicolon (“;”), and colon (“:”)\n",
        "\n",
        "(5) Count the number of vowels in the sentences. Print out each vowel and the number of times it appears in the sentences, such as: a:2, e:1, i:0, etc"
      ]
    },
    {
      "cell_type": "code",
      "metadata": {
        "colab": {
          "base_uri": "https://localhost:8080/"
        },
        "id": "Y0oOSlsOS0cq",
        "outputId": "c3367bde-a50b-489b-f5a5-260a1fcf9aa5"
      },
      "source": [
        "#1\n",
        "input_1 = input(\"enter first sentence: \")\n",
        "input_2 = input(\"enter second sentnce: \")\n",
        "list_1 = list(input_1)\n",
        "list_2 = list(input_2)\n",
        "a = input_1.split()#sentence to list\n",
        "b = input_2.split()#sentence to list\n",
        "print(a)\n",
        "print(b)\n",
        "\n",
        "\n",
        "\n",
        "def vowel_count(listparam):#5\n",
        "  vowels = [\"a\",\"e\",\"i\",\"o\",\"u\"]\n",
        "  result = {}\n",
        "  for j in vowels:\n",
        "    counter = 0\n",
        "    for i in listparam:\n",
        "      if i ==j:\n",
        "        counter =counter+1\n",
        "        result[j] = counter\n",
        "  print(result)\n",
        "\n",
        "vowel_count(list_1)\n",
        "vowel_count(list_2)\n",
        "\n",
        "def compare():\n",
        "  c = []\n",
        "  for word in a:\n",
        "     if word in b:\n",
        "      c.append(word)\n",
        "  print(\"words that occur in both sentences:\",c)\n",
        "compare()\n",
        "\n",
        "def removpunct(input):\n",
        "  import string\n",
        "  f = str.maketrans(\"\",\"\",string.punctuation)\n",
        "  new = input.translate(f)\n",
        "  print(new)\n",
        "\n",
        "removpunct(input_1)\n",
        "removpunct(input_2)"
      ],
      "execution_count": 24,
      "outputs": [
        {
          "output_type": "stream",
          "text": [
            "enter first sentence: it is a dog!!!\n",
            "enter second sentnce: is it a cat??\n",
            "['it', 'is', 'a', 'dog!!!']\n",
            "['is', 'it', 'a', 'cat??']\n",
            "{'a': 1, 'i': 2, 'o': 1}\n",
            "{'a': 2, 'i': 2}\n",
            "words that occur in both sentences: ['it', 'is', 'a']\n",
            "it is a dog\n",
            "is it a cat\n"
          ],
          "name": "stdout"
        }
      ]
    },
    {
      "cell_type": "markdown",
      "metadata": {
        "id": "CmFoI4jDS9nx"
      },
      "source": [
        "# Question 3 \n",
        "\n",
        "(15 points). The formula that describes the volume V of a sphere with radius r is the following:\n",
        "\n",
        "$ V=\\frac{4}{3}\\ast\\ \\pi\\ast\\ r^3 $\n",
        "\n",
        "Write a program to calculate the value of V when r is in the range of 1–10. Output the result in the following format:\n",
        "\n",
        "\tr\tV\n",
        "\t1\t…\n",
        "\t2\t…\n",
        "\t3\t…\n"
      ]
    },
    {
      "cell_type": "code",
      "metadata": {
        "colab": {
          "base_uri": "https://localhost:8080/"
        },
        "id": "pEyqeioAT95b",
        "outputId": "820313dd-4d5e-4633-e54f-ddfe831bcbb6"
      },
      "source": [
        "import math\n",
        "print(\"r\",\"v\")\n",
        "for r in range(1,10):\n",
        "  v=4/3*math.pi*r\n",
        "  print(r,v)\n",
        "\n"
      ],
      "execution_count": null,
      "outputs": [
        {
          "output_type": "stream",
          "text": [
            "r v\n",
            "1 4.1887902047863905\n",
            "2 8.377580409572781\n",
            "3 12.566370614359172\n",
            "4 16.755160819145562\n",
            "5 20.94395102393195\n",
            "6 25.132741228718345\n",
            "7 29.321531433504735\n",
            "8 33.510321638291124\n",
            "9 37.69911184307752\n"
          ],
          "name": "stdout"
        }
      ]
    },
    {
      "cell_type": "code",
      "metadata": {
        "id": "pMCr3l8tnu0j"
      },
      "source": [
        ""
      ],
      "execution_count": null,
      "outputs": []
    },
    {
      "cell_type": "markdown",
      "metadata": {
        "id": "z3tBE7E-Xn5X"
      },
      "source": [
        "# Question 4\n",
        "\n",
        "(40 points). In the field of Data Science, data is often formatted as a comma-delimited (CSV) file, where each line in a file corresponds to a field's value. Refer to Chapter 9 (p. 106) for more information on comma-delimited files. To answer this question, you will need to download the file [Assignment1_denton_housing.csv](https://github.com/unt-iialab/INFO5731_Spring2020/blob/master/Assignments/Assignment1_denton_housing.csv) included with this assignment. The [file Assignment1_denton_housing.csv](https://github.com/unt-iialab/INFO5731_Spring2020/blob/master/Assignments/Assignment1_denton_housing.csv) contains statistics about housing in the city of Denton from 2008 to 2014. Write a program to implement the following questions.\n",
        "\n",
        "(1) (10 pts) Calculate the difference in the number of Occupied Housing Units from year to year and print it. The difference must be calculated for the consecutive years such as 2008-2009, 2009-2010 etc. Finally, print the values in the ascending order.\n",
        "\n",
        "(2) (10 pts) For all the years, calculate the percentage of housing units which are vacant an occupied. Print the results in the following format:\n",
        "\n",
        "Year Vacant Housing Units Occupied Housing Units\n",
        "\n",
        "    2008  30%   70%                          \n",
        "\t2009 ----- -----\n",
        "\t2010 ----- -----\n",
        "    2011 ----- -----\n",
        "\t2012 ----- -----\n",
        "    2013 ----- -----\n",
        "\t2014 ----- -----\n",
        "  \n",
        "  \n",
        "\n",
        "(3) (10 pts) Calculate and print the valued and years in which the highest number of housing units were vacant and occupied. Print the results in the following format:  \n",
        "\n",
        "                              Year\tValue\n",
        "\tVacant Housing Units\t  -----   -----\n",
        "\tOccupied Housing Units\t-----   -----\n",
        "\n",
        "(4) (10 pts) Calculate the harmonic mean of the total housing units and print it out. You can find the information about harmonic mean here: https://ncalculators.com/statistics/harmonic-mean-calculator.htm"
      ]
    },
    {
      "cell_type": "code",
      "metadata": {
        "colab": {
          "base_uri": "https://localhost:8080/"
        },
        "id": "lqGYuHBhcsRH",
        "outputId": "e446f498-4c0a-4a28-8814-aefef51fe835"
      },
      "source": [
        "#1\n",
        "import csv\n",
        "with open('/content/Assignment1_denton_housing.csv','r') as csv_file:\n",
        "  readlines = csv.reader(csv_file)\n",
        "  ocupiedhouses = []\n",
        "  difff = []\n",
        "  for lines in readlines:\n",
        "    if \"Occupied Housing Units\" in lines[1]:\n",
        "      ocupiedhouses.append(lines)\n",
        "  #print(ocupiedhouses)\n",
        "  for i in range(0,len(ocupiedhouses)-1):\n",
        "    years = ocupiedhouses[i][0]+\"-\"+ocupiedhouses[i+1][0]\n",
        "    difference = int(ocupiedhouses[i][2]) - int(ocupiedhouses[i+1][2])\n",
        "    print(years,difference)\n",
        "    difff.append([years, difference])\n",
        "  print(\"Ascending order list:\",sorted(difff, key=lambda x: x[1]))\n",
        "csv_file.close()\n",
        "print(\"\\n\\n\\n\\n\")\n",
        "\n",
        "\n",
        "#2\n",
        "finalist = [] #year, total, vacant, occupied, owner, renter, median\n",
        "for years in range(2008,2015):\n",
        "  with open('//content/Assignment1_denton_housing.csv','r') as csv_file:\n",
        "    midlist = [str(years)]\n",
        "    readlines = csv.reader(csv_file)\n",
        "    for lines in readlines:\n",
        "      if str(lines[0]) == str(years):\n",
        "        midlist.append(lines[2])\n",
        "    #print(midlist)\n",
        "    csv_file.close()\n",
        "    finalist.append(midlist)\n",
        "#print(finalist)\n",
        "# year = finalist[0], vacant% - finalist[2]/finalist[1], occupied % -  finalist[3]/finalist[1]\n",
        "print(\"Year\", \"Vacant%\", \"Occupied%\")\n",
        "for i in finalist:\n",
        "  yr = str(i[0])\n",
        "  vacantpr = (float(int(i[2])) / float(int(i[1]))) * 100\n",
        "  ocupiedpr = (float(int(i[3])) / float(int(i[1]))) * 100\n",
        "  print(yr, str(vacantpr) + \"% \" + str(ocupiedpr)+\"%\")\n",
        "\n",
        "print(\"\\n\\n\\n\\n\")\n",
        "\n",
        "\n",
        "\n",
        "#3\n",
        "def highest(paramval):\n",
        "  with open('/content/Assignment1_denton_housing.csv','r') as csv_file:\n",
        "    readlines = csv.reader(csv_file)\n",
        "    houses = []\n",
        "    maxval = 0\n",
        "    for lines in readlines:\n",
        "      if paramval in lines[1]:\n",
        "       houses.append(lines)\n",
        "      for i in range(0,len(houses)):\n",
        "       if maxval < int(houses[i][2]):\n",
        "          maxval,yr = int(houses[i][2]), houses[i][0]\n",
        "    csv_file.close()\n",
        "    return maxval,yr\n",
        "ochousingunits, yr1 = highest(\"Occupied Housing Units\")\n",
        "vachousingunits , yr2 = highest(\"Vacant Housing Units\") \n",
        "print(\"Occupied Housing Units:\", ochousingunits, yr1)\n",
        "print(\"Vacant Housing Units:\", vachousingunits, yr2)\n",
        "print(\"\\n\\n\\n\\n\")\n",
        "\n",
        "\n",
        "#4\n",
        "def Harmonmean(houselist):\n",
        "  n = len(houselist)\n",
        "  x = 0\n",
        "  for i in range(0,n):\n",
        "    x = x + 1/float(houselist[i])\n",
        "  print(\"Harmonic Mean Total Housing Units:\", n/x)\n",
        "\n",
        "def getHouselist():\n",
        "  with open('/content/Assignment1_denton_housing.csv','r') as csv_file:\n",
        "    readlines = csv.reader(csv_file)\n",
        "    totalhouses= []\n",
        "    for lines in readlines:\n",
        "      if \"Total Housing Units\" in lines[1]:\n",
        "        totalhouses.append(lines[2])\n",
        "    csv_file.close()\n",
        "    return totalhouses\n",
        "  \n",
        "houselist = getHouselist()\n",
        "#print(houselist)\n",
        "Harmonmean(houselist)\n",
        "\n"
      ],
      "execution_count": 30,
      "outputs": [
        {
          "output_type": "stream",
          "text": [
            "2014-2013 2622\n",
            "2013-2012 1565\n",
            "2012-2011 1404\n",
            "2011-2010 -303\n",
            "2010-2009 5091\n",
            "2009-2008 -795\n",
            "Ascending order list: [['2009-2008', -795], ['2011-2010', -303], ['2012-2011', 1404], ['2013-2012', 1565], ['2014-2013', 2622], ['2010-2009', 5091]]\n",
            "\n",
            "\n",
            "\n",
            "\n",
            "\n",
            "Year Vacant% Occupied%\n",
            "2008 10.88265281351653% 89.11734718648347%\n",
            "2009 9.07111572444872% 90.92888427555128%\n",
            "2010 8.142556337081672% 91.85744366291833%\n",
            "2011 9.379522229890688% 90.6204777701093%\n",
            "2012 6.677600230491346% 93.32239976950866%\n",
            "2013 8.801787504176412% 91.19821249582358%\n",
            "2014 5.730110570363885% 94.26988942963611%\n",
            "\n",
            "\n",
            "\n",
            "\n",
            "\n",
            "Occupied Housing Units: 46295 2014\n",
            "Vacant Housing Units: 4483 2008\n",
            "\n",
            "\n",
            "\n",
            "\n",
            "\n",
            "Harmonic Mean Total Housing Units: 44398.28543969185\n"
          ],
          "name": "stdout"
        }
      ]
    },
    {
      "cell_type": "code",
      "metadata": {
        "id": "eBTzutB2kRK9"
      },
      "source": [
        "from google.colab import drive\n",
        "drive.mount('/content/drive')"
      ],
      "execution_count": null,
      "outputs": []
    }
  ]
}